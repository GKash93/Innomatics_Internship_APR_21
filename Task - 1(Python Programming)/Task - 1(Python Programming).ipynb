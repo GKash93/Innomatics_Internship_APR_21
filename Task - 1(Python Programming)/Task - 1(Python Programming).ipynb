{
 "cells": [
  {
   "cell_type": "markdown",
   "metadata": {},
   "source": [
    "# Question 1"
   ]
  },
  {
   "cell_type": "code",
   "execution_count": 2,
   "metadata": {},
   "outputs": [
    {
     "name": "stdout",
     "output_type": "stream",
     "text": [
      "Hello, World!\n"
     ]
    }
   ],
   "source": [
    "message = \"Hello, World!\"\n",
    "print(message)"
   ]
  },
  {
   "attachments": {},
   "cell_type": "markdown",
   "metadata": {},
   "source": [
    "# Question 2 \n",
    "\n",
    "Task\n",
    "Given an integer, , perform the following conditional actions:\n",
    "\n",
    "    If  is odd, print Weird\n",
    "    If  is even and in the inclusive range of 2 to 5, print Not Weird\n",
    "    If  is even and in the inclusive range of 6 to 20, print Weird\n",
    "    If  is even and greater than , print Not Weird\n",
    "\n",
    "Input Format\n",
    "A single line containing a positive integer, n .\n",
    "\n",
    "Constraints\n",
    "    1 <= n <= 100\n",
    "\n",
    "Output Format\n",
    "Print Weird if the number is weird. Otherwise, print Not Weird."
   ]
  },
  {
   "cell_type": "code",
   "execution_count": 13,
   "metadata": {},
   "outputs": [
    {
     "name": "stdout",
     "output_type": "stream",
     "text": [
      "Enter the number3\n",
      "Weird\n"
     ]
    }
   ],
   "source": [
    "n = int(input(\"Enter the number\"))\n",
    "\n",
    "\n",
    "\n",
    "if n%2 == 1:\n",
    "    print(\"Weird\")\n",
    "elif n%2 == 0 and range(2,6):\n",
    "    print(\"Not Weird\")\n",
    "elif n%2 == 0 and range(6,21):\n",
    "    print(\"Weird\")\n",
    "elif n%2 == 0 and n > 20:\n",
    "    print(\"Not Weird\")"
   ]
  },
  {
   "cell_type": "code",
   "execution_count": 12,
   "metadata": {},
   "outputs": [
    {
     "name": "stdout",
     "output_type": "stream",
     "text": [
      "Enter the number24\n",
      "Not Weird\n"
     ]
    }
   ],
   "source": [
    "n = int(input(\"Enter the number\"))\n",
    "\n",
    "if n%2 == 1:\n",
    "    print('Weird')\n",
    "else:\n",
    "    if n in range(2,6):\n",
    "        print(\"Not Weird\")\n",
    "    elif n in range(6,21):\n",
    "        print(\"Weird\")\n",
    "    elif n>20:\n",
    "        print(\"Not Weird\")"
   ]
  },
  {
   "cell_type": "markdown",
   "metadata": {},
   "source": [
    "# Question 3\n",
    "\n",
    "The provided code stub reads two integers from STDIN, a and b . Add code to print three lines where:\n",
    "\n",
    "The first line contains the sum of the two numbers.\n",
    "The second line contains the difference of the two numbers (first - second).\n",
    "The third line contains the product of the two numbers.\n",
    "Example\n",
    "       \n",
    "    a=3\n",
    "    b=5\n",
    "    \n",
    "Print the following:\n",
    "\n",
    "    8\n",
    "    -2\n",
    "    15\n",
    "\n",
    "Input Format\n",
    "\n",
    "    The first line contains the first integer, a.\n",
    "    The second line contains the second integer, b.\n",
    "\n",
    "Constraints\n",
    "\n",
    "    1 <= a <= 10 ** 10\n",
    "    1 <= b <= 10 ** 10\n",
    "    \n",
    "Output Format\n",
    "\n",
    "    Print the three lines as explained above.\n",
    "    \n",
    "    Sample Input 0\n",
    "        3\n",
    "        2\n",
    "    Sample Output 0\n",
    "        5\n",
    "        1\n",
    "        6"
   ]
  },
  {
   "cell_type": "code",
   "execution_count": 14,
   "metadata": {},
   "outputs": [
    {
     "name": "stdout",
     "output_type": "stream",
     "text": [
      "Enter value of a5\n",
      "Enter value of b6\n",
      "11\n",
      "-1\n",
      "30\n"
     ]
    }
   ],
   "source": [
    "a = int(input(\"Enter value of a\"))\n",
    "b = int(input(\"Enter value of b\"))\n",
    "\n",
    "sums = a+ b\n",
    "difference = a-b\n",
    "product = a * b\n",
    "    \n",
    "print(sums)\n",
    "print(difference)\n",
    "print(product)"
   ]
  },
  {
   "cell_type": "markdown",
   "metadata": {},
   "source": [
    "# Question 4\n",
    "\n",
    "The provided code stub reads two integers, a and b, from STDIN.\n",
    "\n",
    "Add logic to print two lines. The first line should contain the result of integer division, a //b . The second line should contain the result of float division, a /b .\n",
    "\n",
    "No rounding or formatting is necessary.\n",
    "\n",
    "Example\n",
    "\n",
    "    a = 3\n",
    "    b = 5\n",
    "\n",
    "    The result of the integer division 0.\n",
    "    The result of the float division is 0.6.\n",
    "    \n",
    "Print:\n",
    "\n",
    "    0\n",
    "    0.6\n",
    "\n",
    "Input Format\n",
    "\n",
    "    The first line contains the first integer, a.\n",
    "    The second line contains the second integer, b.\n",
    "\n",
    "Output Format\n",
    "\n",
    "    Print the two lines as described above.\n",
    "\n",
    "Sample Input 0\n",
    "\n",
    "    4\n",
    "    3\n",
    "\n",
    "Sample Output 0\n",
    "\n",
    "    1\n",
    "    1.33333333333\n"
   ]
  },
  {
   "cell_type": "code",
   "execution_count": 15,
   "metadata": {},
   "outputs": [
    {
     "name": "stdout",
     "output_type": "stream",
     "text": [
      "Enter value of a4\n",
      "Enter value of b3\n",
      "1\n",
      "1.3333333333333333\n"
     ]
    }
   ],
   "source": [
    "a = int(input(\"Enter value of a\"))\n",
    "b = int(input(\"Enter value of b\"))\n",
    "\n",
    "div_integer = a // b\n",
    "div_float = a / b\n",
    "\n",
    "print(div_integer)\n",
    "print(div_float)\n"
   ]
  },
  {
   "cell_type": "markdown",
   "metadata": {},
   "source": [
    "# Question 5\n",
    "\n",
    "Task\n",
    "\n",
    "    The provided code stub reads and integer, n, from STDIN. For all non-negative integers i < n , print i**2 .\n",
    "\n",
    "Example\n",
    "    \n",
    "    n=3\n",
    "    \n",
    "The list of non-negative integers that are less than n = 3 is [0,1,2]. Print the square of each number on a separate line.\n",
    "\n",
    "    0\n",
    "    1\n",
    "    4\n",
    "    \n",
    "Input Format\n",
    "\n",
    "    The first and only line contains the integer, .\n",
    "\n",
    "Constraints\n",
    "    \n",
    "       1 <= n <= 20\n",
    "\n",
    "Output Format\n",
    "\n",
    "    Print n lines, one corresponding to each .\n",
    "\n",
    "Sample Input 0\n",
    "\n",
    "    5\n",
    "    \n",
    "Sample Output 0\n",
    "\n",
    "    0\n",
    "    1\n",
    "    4\n",
    "    9\n",
    "    16"
   ]
  },
  {
   "cell_type": "code",
   "execution_count": 17,
   "metadata": {},
   "outputs": [
    {
     "name": "stdout",
     "output_type": "stream",
     "text": [
      "5\n",
      "0\n",
      "1\n",
      "4\n",
      "9\n",
      "16\n"
     ]
    }
   ],
   "source": [
    "n = int(input())\n",
    "\n",
    "for i in range(n):\n",
    "    print(i*i)"
   ]
  },
  {
   "cell_type": "markdown",
   "metadata": {},
   "source": [
    "# Question 6\n",
    "\n",
    "An extra day is added to the calendar almost every four years as February 29, and the day is called a leap day. It corrects the calendar for the fact that our planet takes approximately 365.25 days to orbit the sun. A leap year contains a leap day.\n",
    "\n",
    "In the Gregorian calendar, three conditions are used to identify leap years:\n",
    "\n",
    "    The year can be evenly divided by 4, is a leap year, unless:\n",
    "    The year can be evenly divided by 100, it is NOT a leap year, unless:\n",
    "    The year is also evenly divisible by 400. Then it is a leap year.\n",
    "    This means that in the Gregorian calendar, the years 2000 and 2400 are leap years, while 1800, 1900, 2100, 2200, 2300 and 2500 are NOT leap years. Source\n",
    "\n",
    "Task\n",
    "\n",
    "Given a year, determine whether it is a leap year. If it is a leap year, return the Boolean True, otherwise return False.\n",
    "\n",
    "Note that the code stub provided reads from STDIN and passes arguments to the is_leap function. It is only necessary to complete the is_leap function.\n",
    "\n",
    "Input Format\n",
    "\n",
    "    Read , the year to test.\n",
    "\n",
    "Constraints\n",
    "\n",
    "    1990 <= year <= 10 ** 6\n",
    "\n",
    "Output Format\n",
    "\n",
    "    The function must return a Boolean value (True/False). Output is handled by the provided code stub.\n",
    "\n",
    "Sample Input 0\n",
    "\n",
    "    1990\n",
    "    \n",
    "Sample Output 0\n",
    "\n",
    "    False\n",
    "    \n",
    "Explanation 0\n",
    "\n",
    "1990 is not a multiple of 4 hence it's not a leap year."
   ]
  },
  {
   "cell_type": "code",
   "execution_count": 32,
   "metadata": {},
   "outputs": [
    {
     "name": "stdout",
     "output_type": "stream",
     "text": [
      "1990\n",
      "False\n"
     ]
    }
   ],
   "source": [
    "year = int(input())\n",
    "\n",
    "def is_leap(year):\n",
    "    \n",
    "    leap = False\n",
    "    \n",
    "    # Write your logic here\n",
    "    if year % 4 == 0 and year % 100 != 0:\n",
    "        leap = True     \n",
    "    elif year % 400 == 0:\n",
    "        leap = True  \n",
    "    return leap\n",
    "\n",
    "print(is_leap(year))"
   ]
  },
  {
   "cell_type": "markdown",
   "metadata": {},
   "source": [
    "# Question 7\n",
    "\n",
    "The included code stub will read an integer,n , from STDIN.\n",
    "\n",
    "Without using any string methods, try to print the following:\n",
    "\n",
    "    123.......n\n",
    "    \n",
    "Note that \"......\" represents the consecutive values in between.\n",
    "\n",
    "Example\n",
    "    \n",
    "    n=5\n",
    "\n",
    "    Print the string .\n",
    "\n",
    "Input Format\n",
    "\n",
    "    The first line contains an integer n.\n",
    "\n",
    "Constraints\n",
    "\n",
    "    1 <= n <= 150\n",
    "    \n",
    "Output Format\n",
    "\n",
    "    Print the list of integers from 1 through n as a string, without spaces.\n",
    "\n",
    "Sample Input 0\n",
    "\n",
    "    3\n",
    "\n",
    "Sample Output 0\n",
    "\n",
    "    123"
   ]
  },
  {
   "cell_type": "code",
   "execution_count": 34,
   "metadata": {},
   "outputs": [
    {
     "name": "stdout",
     "output_type": "stream",
     "text": [
      "3\n",
      "123"
     ]
    }
   ],
   "source": [
    "n = int(input())\n",
    "for i in range(1,n+1):\n",
    "    print(i,end=\"\")"
   ]
  }
 ],
 "metadata": {
  "kernelspec": {
   "display_name": "Python 3",
   "language": "python",
   "name": "python3"
  },
  "language_info": {
   "codemirror_mode": {
    "name": "ipython",
    "version": 3
   },
   "file_extension": ".py",
   "mimetype": "text/x-python",
   "name": "python",
   "nbconvert_exporter": "python",
   "pygments_lexer": "ipython3",
   "version": "3.8.5"
  }
 },
 "nbformat": 4,
 "nbformat_minor": 4
}
