{
 "cells": [
  {
   "cell_type": "markdown",
   "metadata": {},
   "source": [
    "# Question - 1\n",
    "\n",
    "## List Comprehension\n",
    "\n",
    "###### https://www.hackerrank.com/challenges/list-comprehensions/problem\n",
    "\n",
    "c1,c2, c3 are the three conditional values I have chosen to represent the possible cordinates, since, it is mentioned that \n",
    "cordinates are list due them being same as x,y,z which are the integer dimension of the cuboid.\n",
    "\n",
    "since there is a condition that \n",
    "\n",
    "0 <= c1 <= x, \n",
    "0 <= c2 <= y, \n",
    "0 <= c3 <= z\n",
    "\n",
    "Since the n is the highest factor to consider in the permutations, \n",
    "range function returns a sequence of numbers, starting from 0 by default, and increments by 1 (by default), \n",
    "and stops before a specified number.\n",
    "\n",
    "We know that each elemental value of the of the list should be less than n or same as n\n",
    "\n",
    "The below code can be understood as follows w/ multiple for loops\n",
    "\n",
    "emplist = [] # Start with empty list\n",
    "for c1 in range(x+1):\n",
    "    for c2 in range(y+1):\n",
    "        for c3 in range(z+1):\n",
    "            if (c1 + c2 + c3 != n):\n",
    "                emplist.append([c1,c2,c3)]\n",
    "print(emplist)"
   ]
  },
  {
   "cell_type": "code",
   "execution_count": 2,
   "metadata": {},
   "outputs": [
    {
     "name": "stdout",
     "output_type": "stream",
     "text": [
      "2\n",
      "2\n",
      "2\n",
      "2\n",
      "[[0, 0, 0], [0, 0, 1], [0, 0, 2], [0, 1, 0], [0, 1, 1], [0, 1, 2], [0, 2, 0], [0, 2, 1], [0, 2, 2], [1, 0, 0], [1, 0, 1], [1, 0, 2], [1, 1, 0], [1, 1, 1], [1, 1, 2], [1, 2, 0], [1, 2, 1], [1, 2, 2], [2, 0, 0], [2, 0, 1], [2, 0, 2], [2, 1, 0], [2, 1, 1], [2, 1, 2], [2, 2, 0], [2, 2, 1], [2, 2, 2]]\n"
     ]
    }
   ],
   "source": [
    "x = int(input())\n",
    "y = int(input())\n",
    "z = int(input())\n",
    "n = int(input())\n",
    "\n",
    "print([[c1,c2,c3] for c1 in range(x+1) for c2 in range(y+1) for c3 in range(z+1)])\n",
    "\n"
   ]
  },
  {
   "cell_type": "code",
   "execution_count": 5,
   "metadata": {},
   "outputs": [
    {
     "name": "stdout",
     "output_type": "stream",
     "text": [
      "2\n",
      "2\n",
      "2\n",
      "2\n",
      "[[0, 0, 0], [0, 0, 1], [0, 1, 0], [0, 1, 2], [0, 2, 1], [0, 2, 2], [1, 0, 0], [1, 0, 2], [1, 1, 1], [1, 1, 2], [1, 2, 0], [1, 2, 1], [1, 2, 2], [2, 0, 1], [2, 0, 2], [2, 1, 0], [2, 1, 1], [2, 1, 2], [2, 2, 0], [2, 2, 1], [2, 2, 2]]\n"
     ]
    }
   ],
   "source": [
    "# Alternate solution to Question-1\n",
    "\n",
    "x = int(input())\n",
    "y = int(input())\n",
    "z = int(input())\n",
    "n = int(input())\n",
    "\n",
    "emplist = [] # Start with empty list\n",
    "for c1 in range(x+1):\n",
    "    for c2 in range(y+1):\n",
    "        for c3 in range(z+1):\n",
    "            if (c1 + c2 + c3 != n):\n",
    "                emplist.append([c1,c2,c3])\n",
    "print(emplist)"
   ]
  },
  {
   "cell_type": "markdown",
   "metadata": {},
   "source": [
    "# Question 2\n",
    "\n",
    "## Find the runner-up score\n",
    "\n",
    "###### https://www.hackerrank.com/challenges/find-second-maximum-number-in-a-list/problem\n",
    "\n",
    "##### Solution  using sort method but we will need to convert the map to list to set and then sorting it and then finding the negative 2nd position. "
   ]
  },
  {
   "cell_type": "code",
   "execution_count": 33,
   "metadata": {},
   "outputs": [
    {
     "name": "stdout",
     "output_type": "stream",
     "text": [
      "5\n",
      "2 3 6 6 5\n",
      "5\n"
     ]
    }
   ],
   "source": [
    "n = int(input())\n",
    "arr = map(int, input().split())\n",
    "print(sorted(list(set(arr)))[-2])"
   ]
  },
  {
   "cell_type": "markdown",
   "metadata": {},
   "source": [
    "# Question 3\n",
    "\n",
    "## Nested List\n",
    "\n",
    "https://www.hackerrank.com/challenges/nested-list/problem"
   ]
  },
  {
   "cell_type": "code",
   "execution_count": 41,
   "metadata": {},
   "outputs": [
    {
     "name": "stdout",
     "output_type": "stream",
     "text": [
      "5\n",
      "harry\n",
      "37.21\n",
      "berry\n",
      "37.21\n",
      "nikita\n",
      "37.2\n",
      "akrithi\n",
      "46\n",
      "sam\n",
      "57\n",
      "berry\n",
      "harry\n"
     ]
    }
   ],
   "source": [
    "emp_list = []\n",
    "for _ in range(int(input())):\n",
    "    name = input()\n",
    "    score = float(input())\n",
    "    \n",
    "    # Let's create a list with student name and score\n",
    "    emp_list.append([name,score])\n",
    "    \n",
    "# find highest number - sort it, convert to list, list comprehension match score in every input value of emp_list \n",
    "# which now has all the 5 or so input fed\n",
    "\n",
    "# read as each score for name, score(name and score are parsed together) in an appended empty_list\n",
    "second_sorted = sorted(set([score for name, score in emp_list]))[1]\n",
    "\n",
    "# since each list is entered seperately, .join() will create a nested list\n",
    "# sort it descending order, match each name from appended empty_list and \n",
    "# if score matches the second highest score in second_sorted, return the name.\n",
    "print('\\n'.join(sorted([name for name, score in emp_list if score == second_sorted])))"
   ]
  },
  {
   "cell_type": "markdown",
   "metadata": {},
   "source": [
    "# Question 4\n",
    "\n",
    "## Finding the percentage\n",
    "\n",
    "https://www.hackerrank.com/challenges/finding-the-percentage/problem"
   ]
  },
  {
   "cell_type": "code",
   "execution_count": 47,
   "metadata": {},
   "outputs": [
    {
     "name": "stdout",
     "output_type": "stream",
     "text": [
      "3\n",
      "harsh 25 26.5 28\n",
      "anurag 26 28 30\n",
      "sam 31 35 36\n",
      "harsh\n",
      "26.50\n"
     ]
    }
   ],
   "source": [
    "n = int(input())\n",
    "student_marks = {}\n",
    "for _ in range(n):\n",
    "    name, *line = input().split()\n",
    "    scores = list(map(float, line))\n",
    "    student_marks[name] = scores\n",
    "query_name = input()\n",
    "\n",
    "sum_studentmarks = sum(student_marks[query_name])\n",
    "percentages = sum_studentmarks / 3\n",
    "print(\"%.2f\"%(percentages))"
   ]
  },
  {
   "cell_type": "markdown",
   "metadata": {},
   "source": [
    "# Question 5\n",
    "\n",
    "## Lists\n",
    "\n",
    "Consider a list (list = []). You can perform the following commands:\n",
    "\n",
    "    insert i e: Insert integer e at position i.\n",
    "    print: Print the list.\n",
    "    remove e: Delete the first occurrence of integer e.\n",
    "    append e: Insert integer e at the end of the list.\n",
    "    sort: Sort the list.\n",
    "    pop: Pop the last element from the list.\n",
    "    reverse: Reverse the list.\n",
    "    \n",
    "https://www.hackerrank.com/challenges/python-lists/problem"
   ]
  },
  {
   "cell_type": "code",
   "execution_count": 49,
   "metadata": {},
   "outputs": [
    {
     "name": "stdout",
     "output_type": "stream",
     "text": [
      "12\n",
      "insert 0 5\n",
      "insert 1 10\n",
      "insert 0 6\n",
      "print\n",
      "[6, 5, 10]\n",
      "remove 6\n",
      "append 9\n",
      "append 1\n",
      "sort\n",
      "print\n",
      "[1, 5, 9, 10]\n",
      "pop\n",
      "print\n",
      "[1, 5, 9]\n",
      "reverse\n"
     ]
    }
   ],
   "source": [
    "N = int(input())\n",
    "emp_lst = []\n",
    "for i in range(0, N):\n",
    "    cmd = input().split()\n",
    "        \n",
    "    if cmd[0] == 'print':\n",
    "        print(emp_lst)\n",
    "    elif cmd[0] == 'insert':\n",
    "        emp_lst.insert(int(cmd[1]), int(cmd[2]))\n",
    "    elif cmd[0] == 'remove':\n",
    "        emp_lst.remove(int(cmd[1]))\n",
    "    elif cmd[0] == 'pop':\n",
    "        emp_lst.pop()\n",
    "    elif cmd[0] == 'append':\n",
    "        emp_lst.append(int(cmd[1]))\n",
    "    elif cmd[0] == 'sort':\n",
    "        emp_lst.sort()\n",
    "    else:\n",
    "        emp_lst.reverse()"
   ]
  },
  {
   "cell_type": "markdown",
   "metadata": {},
   "source": [
    "# Question 6\n",
    "\n",
    "## Tuples\n",
    "\n",
    "https://www.hackerrank.com/challenges/python-tuples/problem"
   ]
  },
  {
   "cell_type": "code",
   "execution_count": 51,
   "metadata": {},
   "outputs": [
    {
     "name": "stdout",
     "output_type": "stream",
     "text": [
      "3\n",
      "1 2 3\n",
      "529344067295497451\n"
     ]
    }
   ],
   "source": [
    "n = int(input())\n",
    "integer_list = map(int, input().split())\n",
    "output = (tuple(integer_list))\n",
    "print(hash(output))"
   ]
  },
  {
   "cell_type": "code",
   "execution_count": 52,
   "metadata": {},
   "outputs": [
    {
     "name": "stdout",
     "output_type": "stream",
     "text": [
      "2\n",
      "12 2\n",
      "136021378934\n"
     ]
    }
   ],
   "source": [
    "n = int(input())\n",
    "integer_list = map(int, input().split())\n",
    "output = hash(integer_list)\n",
    "print(output)"
   ]
  },
  {
   "cell_type": "markdown",
   "metadata": {},
   "source": [
    "# Question 7\n",
    "\n",
    "## Sets\n",
    "\n",
    "https://www.hackerrank.com/challenges/py-introduction-to-sets/problem\n",
    "    "
   ]
  },
  {
   "cell_type": "code",
   "execution_count": 53,
   "metadata": {},
   "outputs": [
    {
     "name": "stdout",
     "output_type": "stream",
     "text": [
      "10\n",
      "161 182 161 154 176 170 167 171 170 174\n",
      "169.375\n"
     ]
    }
   ],
   "source": [
    "def average(array):\n",
    "    base = set(arr)\n",
    "    final_base = sum(base) / len(base)\n",
    "    return final_base\n",
    "\n",
    "\n",
    "n = int(input())\n",
    "arr = list(map(int, input().split()))\n",
    "result = average(arr)\n",
    "print(result)"
   ]
  },
  {
   "cell_type": "markdown",
   "metadata": {},
   "source": [
    "# Question 8\n",
    "\n",
    "## No Idea!\n",
    "\n",
    "https://www.hackerrank.com/challenges/no-idea/problem"
   ]
  },
  {
   "cell_type": "code",
   "execution_count": 56,
   "metadata": {},
   "outputs": [
    {
     "name": "stdout",
     "output_type": "stream",
     "text": [
      "3 2 \n",
      "1 5 \n",
      "3 1 3\n",
      "5 7\n",
      "1\n"
     ]
    }
   ],
   "source": [
    "result = 0\n",
    "base_storage = list()\n",
    "\n",
    "base_input = input().split()\n",
    "m,n = int(base_input[0]), int(base_input[1])\n",
    "A = set(map(int, input().strip().split()))\n",
    "B = set(map(int, input().strip().split()))\n",
    "\n",
    "base_storage = list(map(int, input().strip().split()))\n",
    "\n",
    "for i in base_storage:\n",
    "    if i in A: result = result + 1\n",
    "    if i in B: result = result - 1\n",
    "        \n",
    "print(result)"
   ]
  },
  {
   "cell_type": "markdown",
   "metadata": {},
   "source": [
    "# Question 9\n",
    "\n",
    "## Symmetric Difference\n",
    "\n",
    "https://www.hackerrank.com/challenges/symmetric-difference/problem"
   ]
  },
  {
   "cell_type": "code",
   "execution_count": 23,
   "metadata": {},
   "outputs": [
    {
     "name": "stdout",
     "output_type": "stream",
     "text": [
      "4\n",
      "2 4 5 9\n",
      "4\n",
      "2 4 11 12\n",
      "5\n",
      "9\n",
      "11\n",
      "12\n"
     ]
    }
   ],
   "source": [
    "# 1. 2 sets of integer M and N, a,b are the set elements respectively.\n",
    "\n",
    "M,a = int(input()), input().split(\" \") # Only M is defined as integer\n",
    "N,b = int(input()), input().split(\" \") # Only N is defined as integer\n",
    "\n",
    "set_1 = set(a) #set_1 contains all the integers specified by M\n",
    "set_2 = set(b) #set_2 contains all the integers specified  by N\n",
    "\n",
    "#symmetric difference \n",
    "sym_diff_M = set_1.difference(set_2)\n",
    "sym_diff_N = set_2.difference(set_1)\n",
    "\n",
    "# condition :: those values that exist in either M or N but do not exist in both. Remember Union we learnt in high school.\n",
    "#conditions specifies M first then N, so this order.\n",
    "\n",
    "sym_difference_cond = sym_diff_M.union(sym_diff_N) \n",
    "\n",
    "#key = int will specify the sorted elements is numbers\n",
    "print(\"\\n\".join(sorted(sym_difference_cond, key=int)))"
   ]
  },
  {
   "cell_type": "markdown",
   "metadata": {},
   "source": [
    "# Question 10\n",
    "\n",
    "## set.add()\n",
    "https://www.hackerrank.com/challenges/py-set-add/problem"
   ]
  },
  {
   "cell_type": "code",
   "execution_count": 27,
   "metadata": {},
   "outputs": [
    {
     "name": "stdout",
     "output_type": "stream",
     "text": [
      "Enter the total country count: 7\n",
      "UK\n",
      "France\n",
      "Italy\n",
      "USA\n",
      "Italy\n",
      "Germany\n",
      "USA\n",
      "5\n"
     ]
    }
   ],
   "source": [
    "n = int(input(\"Enter the total country count: \"))\n",
    "stamps_total = set() # We need a empty set to add the country name\n",
    "\n",
    "#Since condition is present of multiple values of n, say n=5, instead of doing same task 5 times, we use range\n",
    "\n",
    "\n",
    "for i in range(n):    \n",
    "    stamps_total.add(input()) # set.add(country name)\n",
    "    \n",
    "print(len(stamps_total)) #distinct count means no repeat, so use len"
   ]
  },
  {
   "cell_type": "markdown",
   "metadata": {},
   "source": [
    "# Question 11\n",
    "\n",
    "## Set .discard(), .remove() & .pop()\n",
    "\n",
    "https://www.hackerrank.com/challenges/py-set-discard-remove-pop/problem"
   ]
  },
  {
   "cell_type": "code",
   "execution_count": 29,
   "metadata": {},
   "outputs": [
    {
     "name": "stdout",
     "output_type": "stream",
     "text": [
      "9\n",
      "1 2 3 4 5 6 7 8 9\n",
      "10\n",
      "pop\n",
      "remove 9\n",
      "discard 9\n",
      "discard 9\n",
      "remove 7\n",
      "pop\n",
      "discard 6\n",
      "remove 5\n",
      "pop\n",
      "discard 5\n",
      "12\n"
     ]
    }
   ],
   "source": [
    "n = int(input())\n",
    "s = set(map(int, input().split()))\n",
    "\n",
    "task_count = int(input())\n",
    "for i in range(task_count):\n",
    "    task = input().split()\n",
    "    if task[0] == 'pop':\n",
    "        s.pop()\n",
    "    elif task[0] == 'discard':\n",
    "        s.discard(int(task[1]))\n",
    "    else:\n",
    "        s.remove(int(task[1]))\n",
    "        \n",
    "print(sum(s))"
   ]
  },
  {
   "cell_type": "markdown",
   "metadata": {},
   "source": [
    "# Question 12\n",
    "\n",
    "## Set .union()\n",
    "\n",
    "https://www.hackerrank.com/challenges/py-set-union/problem "
   ]
  },
  {
   "cell_type": "code",
   "execution_count": 10,
   "metadata": {},
   "outputs": [
    {
     "name": "stdout",
     "output_type": "stream",
     "text": [
      "9\n",
      "1 2 3 4 5 6 7 8 9\n",
      "9\n",
      "10 1 2 3 11 21 55 6 8\n",
      "{1, 2, 3, 4, 5, 6, 7, 8, 9} \n",
      " {1, 2, 3, 6, 8, 10, 11, 21, 55}\n",
      "{1, 2, 3, 4, 5, 6, 7, 8, 9, 10, 11, 21, 55}\n",
      "13\n"
     ]
    }
   ],
   "source": [
    "english = int(input())\n",
    "english_set = set(map(int, input().split()))\n",
    "french = int(input())\n",
    "french_set = set(map(int, input().split()))\n",
    "\n",
    "print(english_set, '\\n', french_set)\n",
    "\n",
    "print(english_set.union(french_set))\n",
    "print(len(english_set.union(french_set)))"
   ]
  },
  {
   "cell_type": "markdown",
   "metadata": {},
   "source": [
    "# Question 13\n",
    "\n",
    "## set.intersection() Operation\n",
    "\n",
    "https://www.hackerrank.com/challenges/py-set-intersection-operation/problem"
   ]
  },
  {
   "cell_type": "code",
   "execution_count": 12,
   "metadata": {},
   "outputs": [
    {
     "name": "stdout",
     "output_type": "stream",
     "text": [
      "9\n",
      "1 2 3 4 5 6 7 8 9\n",
      "9\n",
      "10 1 2 3 11 21 55 6 8\n",
      "{1, 2, 3, 4, 5, 6, 7, 8, 9} \n",
      " {1, 2, 3, 6, 8, 10, 11, 21, 55}\n",
      "{1, 2, 3, 6, 8}\n",
      "5\n"
     ]
    }
   ],
   "source": [
    "english = int(input())\n",
    "english_set = set(map(int, input().split()))\n",
    "french = int(input())\n",
    "french_set = set(map(int, input().split()))\n",
    "\n",
    "print(english_set, '\\n', french_set)\n",
    "\n",
    "print(english_set.intersection(french_set))\n",
    "print(len(english_set.intersection(french_set)))"
   ]
  },
  {
   "cell_type": "markdown",
   "metadata": {},
   "source": [
    "# Question 14\n",
    "\n",
    "## Set.difference() operations\n",
    "\n",
    "https://www.hackerrank.com/challenges/py-set-difference-operation/problem"
   ]
  },
  {
   "cell_type": "code",
   "execution_count": 13,
   "metadata": {},
   "outputs": [
    {
     "name": "stdout",
     "output_type": "stream",
     "text": [
      "9\n",
      "1 2 3 4 5 6 7 8 9\n",
      "9\n",
      "10 1 2 3 11 21 55 6 8\n",
      "{1, 2, 3, 4, 5, 6, 7, 8, 9} \n",
      " {1, 2, 3, 6, 8, 10, 11, 21, 55}\n",
      "{9, 4, 5, 7}\n",
      "4\n"
     ]
    }
   ],
   "source": [
    "english = int(input())\n",
    "english_set = set(map(int, input().split()))\n",
    "french = int(input())\n",
    "french_set = set(map(int, input().split()))\n",
    "\n",
    "print(english_set, '\\n', french_set)\n",
    "\n",
    "print(english_set.difference(french_set))\n",
    "print(len(english_set.difference(french_set)))"
   ]
  },
  {
   "cell_type": "markdown",
   "metadata": {},
   "source": [
    "# Question 15\n",
    "\n",
    "## Set.symmetric_difference() operation\n",
    "\n",
    "https://www.hackerrank.com/challenges/py-set-symmetric-difference-operation/problem "
   ]
  },
  {
   "cell_type": "code",
   "execution_count": 14,
   "metadata": {},
   "outputs": [
    {
     "name": "stdout",
     "output_type": "stream",
     "text": [
      "9\n",
      "1 2 3 4 5 6 7 8 9\n",
      "9\n",
      "10 1 2 3 11 21 55 6 8\n",
      "{1, 2, 3, 4, 5, 6, 7, 8, 9} \n",
      " {1, 2, 3, 6, 8, 10, 11, 21, 55}\n",
      "{4, 5, 7, 9, 10, 11, 21, 55}\n",
      "8\n"
     ]
    }
   ],
   "source": [
    "english = int(input())\n",
    "english_set = set(map(int, input().split()))\n",
    "french = int(input())\n",
    "french_set = set(map(int, input().split()))\n",
    "\n",
    "print(english_set, '\\n', french_set)\n",
    "\n",
    "print(english_set.symmetric_difference(french_set))\n",
    "print(len(english_set.symmetric_difference(french_set)))"
   ]
  },
  {
   "cell_type": "markdown",
   "metadata": {},
   "source": [
    "# Question 16\n",
    "\n",
    "## Set Mutations\n",
    "\n",
    "https://www.hackerrank.com/challenges/py-set-mutations/problem"
   ]
  },
  {
   "cell_type": "code",
   "execution_count": 17,
   "metadata": {},
   "outputs": [
    {
     "name": "stdout",
     "output_type": "stream",
     "text": [
      "16\n",
      "1 2 3 4 5 6 7 8 9 10 11 12 13 14 24 52\n",
      "4\n",
      "intersection_update 10\n",
      "2 3 5 6 8 9 1 4 7 11\n",
      "update 2\n",
      "55 66\n",
      "symmetric_difference_update 5\n",
      "22 7 35 62 58\n",
      "difference_update 7\n",
      "11 22 35 55 58 62 66\n",
      "38\n"
     ]
    }
   ],
   "source": [
    "# total number of the ops to be performed\n",
    "emp_ip = int(input()) \n",
    "\n",
    "# Set A as mentioned in problem statement\n",
    "A = set(map(int, input().split()))\n",
    "\n",
    "#How many ops are we performing\n",
    "N = int(input())\n",
    "\n",
    "for i in range(N):\n",
    "    \n",
    "    # task to perform and elements will be the performed with the task\n",
    "    task, element = input().split()\n",
    "    \n",
    "    #As mentioned we will need to add another set into the execution\n",
    "    other_sets = set(map(int, input().split()))\n",
    "    \n",
    "    # task - intersection_update\n",
    "    if task == 'intersection_update':\n",
    "        A.intersection_update(other_sets)\n",
    "    \n",
    "    # task - symmetric_difference_update\n",
    "    elif task == 'symmetric_difference_update':\n",
    "        A.symmetric_difference_update(other_sets)\n",
    "    \n",
    "    # task - difference_update\n",
    "    elif task == 'difference_update':\n",
    "        A.difference_update(other_sets)\n",
    "   \n",
    "    #task -update\n",
    "    elif A.update == 'update':\n",
    "            A.update(other_set)\n",
    "\n",
    "#print sum of the set A once the execution is completed            \n",
    "print(sum(A))\n"
   ]
  },
  {
   "cell_type": "markdown",
   "metadata": {},
   "source": [
    "# Question 17\n",
    "\n",
    "## Check Subset\n",
    "\n",
    "https://www.hackerrank.com/challenges/py-check-subset/problem"
   ]
  },
  {
   "cell_type": "code",
   "execution_count": 22,
   "metadata": {},
   "outputs": [
    {
     "name": "stdout",
     "output_type": "stream",
     "text": [
      "3\n",
      "5\n",
      "1 2 3 5 6\n",
      "9\n",
      "9 8 5 6 3 2 1 4 7\n",
      "\n",
      " \n",
      " True\n",
      "1\n",
      "2\n",
      "5\n",
      "3 6 5 4 1\n",
      "\n",
      " \n",
      " False\n",
      "7\n",
      "1 2 3 5 6 8 9\n",
      "3\n",
      "9 8 2\n",
      "\n",
      " \n",
      " False\n"
     ]
    }
   ],
   "source": [
    "# No of test need to performed\n",
    "test_case = int(input())\n",
    "\n",
    "for i in range(test_case):\n",
    "    # set-1 no of values specified\n",
    "    set1 = int(input())\n",
    "    \n",
    "    # input values of the set2\n",
    "    set1_ele = set(map(int, input().split()))\n",
    "    \n",
    "    # set-2 no of values specified\n",
    "    set2 = int(input())\n",
    "    \n",
    "    # input values of the set2\n",
    "    set2_ele = set(map(int, input().split()))\n",
    "    \n",
    "    #issubset function obtained during the google search\n",
    "    print('\\n \\n',set1_ele.issubset(set2_ele))"
   ]
  },
  {
   "cell_type": "markdown",
   "metadata": {},
   "source": [
    "# Question 18\n",
    "\n",
    "## Check Strict Superset\n",
    "\n",
    "https://www.hackerrank.com/challenges/py-check-strict-superset/problem\n",
    "\n",
    "#### Code is referred"
   ]
  },
  {
   "cell_type": "code",
   "execution_count": 32,
   "metadata": {},
   "outputs": [
    {
     "name": "stdout",
     "output_type": "stream",
     "text": [
      "1 2 3 4 5 6 7 8 9 10 11 12 23 45 84 78\n",
      "2 \n",
      "1 2 3 4 5\n",
      "100 11 12\n",
      "False\n"
     ]
    }
   ],
   "source": [
    "setA = set(map(int, input().split()))\n",
    "ops_count = 0\n",
    "n = int(input())\n",
    "for i in range(n):\n",
    "    setB = set(map(int, input().split()))\n",
    "    if setA.issuperset(setB):\n",
    "        ops_count += 1\n",
    "        \n",
    "print(ops_count == n)\n"
   ]
  },
  {
   "cell_type": "markdown",
   "metadata": {},
   "source": [
    "# Question 19\n",
    "\n",
    "## Captain's Room\n",
    "\n",
    "https://www.hackerrank.com/challenges/py-the-captains-room/problem"
   ]
  },
  {
   "cell_type": "code",
   "execution_count": 59,
   "metadata": {},
   "outputs": [
    {
     "name": "stdout",
     "output_type": "stream",
     "text": [
      "5\n",
      "1 2 3 6 5 4 4 2 5 3 6 1 6 5 3 2 4 1 2 5 1 4 3 6 8 4 3 1 5 6 2 \n",
      "{8}\n"
     ]
    }
   ],
   "source": [
    "k = int(input())\n",
    "rooms = list(map(int, input().split()))\n",
    "\n",
    "rooms_u = set()\n",
    "rooms_r = set()\n",
    "\n",
    "for i in rooms:\n",
    "    if i in rooms_u:\n",
    "        rooms_r.add(i)\n",
    "    else:\n",
    "        rooms_u.add(i)\n",
    "\n",
    "captains_room = rooms_u.difference(rooms_r)\n",
    "print(str(captains_room))"
   ]
  }
 ],
 "metadata": {
  "kernelspec": {
   "display_name": "Python 3",
   "language": "python",
   "name": "python3"
  },
  "language_info": {
   "codemirror_mode": {
    "name": "ipython",
    "version": 3
   },
   "file_extension": ".py",
   "mimetype": "text/x-python",
   "name": "python",
   "nbconvert_exporter": "python",
   "pygments_lexer": "ipython3",
   "version": "3.8.5"
  }
 },
 "nbformat": 4,
 "nbformat_minor": 4
}
