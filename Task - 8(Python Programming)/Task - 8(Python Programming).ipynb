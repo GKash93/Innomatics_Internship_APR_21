{
 "cells": [
  {
   "cell_type": "markdown",
   "metadata": {},
   "source": [
    "# Question 1\n",
    "\n",
    "## Binomial Distribution I\n",
    "\n",
    "https://www.hackerrank.com/challenges/s10-binomial-distribution-1/problem"
   ]
  },
  {
   "cell_type": "code",
   "execution_count": 7,
   "metadata": {},
   "outputs": [
    {
     "name": "stdout",
     "output_type": "stream",
     "text": [
      "1.09 1\n",
      "0.696\n"
     ]
    }
   ],
   "source": [
    "def factorial(n):\n",
    "    if n == 0:\n",
    "        return 1\n",
    "    else:\n",
    "        return n * factorial(n-1)\n",
    "\n",
    "def combination(n,x):\n",
    "    combi = factorial(n) / (factorial(x) * factorial(n-x))\n",
    "    return combi\n",
    "\n",
    "def binomial(x,n,p):\n",
    "    binom = combination(n,x) * (p ** x) * ((1-p) ** (n-x))\n",
    "    return binom\n",
    "\n",
    "b, g = list(map(float, input().split()))\n",
    "odds = b / g\n",
    "\n",
    "print(round(sum([binomial(i,6, odds / (1 + odds)) for i in range(3,7)]),3))"
   ]
  },
  {
   "cell_type": "markdown",
   "metadata": {},
   "source": [
    "# Question 2\n",
    "\n",
    "## Binomial Distribution II\n",
    "\n",
    "https://www.hackerrank.com/challenges/s10-binomial-distribution-2/problem"
   ]
  },
  {
   "cell_type": "code",
   "execution_count": 8,
   "metadata": {},
   "outputs": [
    {
     "name": "stdout",
     "output_type": "stream",
     "text": [
      "12 10\n",
      "0.891\n",
      "0.342\n"
     ]
    }
   ],
   "source": [
    "def factorial(n):\n",
    "    if n == 0:\n",
    "        return 1\n",
    "    else:\n",
    "        return n * factorial(n-1)\n",
    "\n",
    "def combination(n,x):\n",
    "    combi = factorial(n) / (factorial(x) * factorial(n-x))\n",
    "    return combi\n",
    "\n",
    "def binomial(x,n,p):\n",
    "    binom = combination(n,x) * (p ** x) * ((1-p) ** (n-x))\n",
    "    return binom\n",
    "\n",
    "def_piston, size_piston = list(map(int, input().split()))\n",
    "print(round(sum([binomial(i, size_piston, def_piston / 100) for i in range(3)]),3))\n",
    "print(round(sum([binomial(i, size_piston, def_piston / 100) for i in range(2, size_piston+1)]),3))"
   ]
  },
  {
   "cell_type": "markdown",
   "metadata": {},
   "source": [
    "# Question 3\n",
    "\n",
    "## Normal Distribution I\n",
    "\n",
    "https://www.hackerrank.com/challenges/s10-normal-distribution-1/problem"
   ]
  },
  {
   "cell_type": "code",
   "execution_count": 13,
   "metadata": {},
   "outputs": [
    {
     "name": "stdout",
     "output_type": "stream",
     "text": [
      "20 2\n",
      "19.5\n",
      "20 22\n",
      "0.401\n",
      "0.34099999999999997\n"
     ]
    }
   ],
   "source": [
    "import math\n",
    "\n",
    "mean, std_dev = map(float, input().split())\n",
    "time_1 = float(input())\n",
    "time_2, time_3 = map(float, input().split())\n",
    "\n",
    "def NormDist(case, mean, std_dev):\n",
    "    z = (case - mean) / (std_dev * ( 2 ** 0.5))\n",
    "    error = math.erf(z)\n",
    "    return round(((1 + error) * 0.5), 3)\n",
    "\n",
    "print(NormDist(time_1, mean, std_dev))\n",
    "print(NormDist(time_3, mean, std_dev) - NormDist(time_2, mean, std_dev))"
   ]
  },
  {
   "cell_type": "markdown",
   "metadata": {},
   "source": [
    "# Question 4\n",
    "\n",
    "## Normal Distribution II\n",
    "\n",
    "https://www.hackerrank.com/challenges/s10-normal-distribution-2/problem"
   ]
  },
  {
   "cell_type": "code",
   "execution_count": 14,
   "metadata": {},
   "outputs": [
    {
     "name": "stdout",
     "output_type": "stream",
     "text": [
      "70 10\n",
      "80\n",
      "60\n",
      "16 2\n",
      "84 2\n",
      "16 2\n"
     ]
    }
   ],
   "source": [
    "import math\n",
    "\n",
    "mean, std_dev = map(float, input().split())\n",
    "grade_1 = float(input())\n",
    "grade_2 = float(input())\n",
    "\n",
    "def NormDist(case, mean, std_dev):\n",
    "    z = (case - mean) / (std_dev * ( 2 ** 0.5))\n",
    "    error = math.erf(z)\n",
    "    return (1 + error) * 0.5\n",
    "\n",
    "print( round(100 - (NormDist(grade_1, mean, std_dev) * 100)), 2)\n",
    "print( round(100 - (NormDist(grade_2, mean, std_dev) * 100)), 2)\n",
    "print( round(NormDist(grade_2, mean, std_dev) * 100),2)"
   ]
  },
  {
   "cell_type": "markdown",
   "metadata": {},
   "source": [
    "# Question 5\n",
    "\n",
    "## Central Limit Theorem I\n",
    "\n",
    "https://www.hackerrank.com/challenges/s10-the-central-limit-theorem-1/problem"
   ]
  },
  {
   "cell_type": "code",
   "execution_count": 15,
   "metadata": {},
   "outputs": [
    {
     "name": "stdout",
     "output_type": "stream",
     "text": [
      "9800\n",
      "49\n",
      "205\n",
      "15\n",
      "0.0098\n"
     ]
    }
   ],
   "source": [
    "import math\n",
    "\n",
    "max_weight = int(input()) \n",
    "box_cnts = int(input()) \n",
    "mean_weight = int(input()) \n",
    "std_dev = int(input())\n",
    "\n",
    "box_mean = box_cnts * mean_weight\n",
    "std_dev_bxcnts = math.sqrt(box_cnts) * std_dev\n",
    "\n",
    "def clt(max_weight,mean_weight, std_dev):\n",
    "    z = (max_weight - mean_weight) / std_dev\n",
    "    return 0.5 * (1 + math.erf(z/math.sqrt(2)))\n",
    "\n",
    "print(round(clt(max_weight, box_mean,std_dev_bxcnts), 4))"
   ]
  },
  {
   "cell_type": "markdown",
   "metadata": {},
   "source": [
    "# Question 6\n",
    "\n",
    "## Central Limit Theorem II\n",
    "\n",
    "https://www.hackerrank.com/challenges/s10-the-central-limit-theorem-2/problem"
   ]
  },
  {
   "cell_type": "code",
   "execution_count": 27,
   "metadata": {},
   "outputs": [
    {
     "name": "stdout",
     "output_type": "stream",
     "text": [
      "250\n",
      "100\n",
      "2.4\n",
      "2.0\n",
      "0.6915\n"
     ]
    }
   ],
   "source": [
    "from math import sqrt, erf\n",
    "\n",
    "def normal_cumulative(x, mean, std):\n",
    "    return 0.5 + 0.5 * erf( (x-mean)/(std*sqrt(2)))\n",
    "\n",
    "num_tickets = int(input())\n",
    "num_students = int(input())\n",
    "mean = float(input())\n",
    "std = float(input())\n",
    "\n",
    "mean_ = num_students * mean\n",
    "std_ = sqrt(num_students) * std\n",
    "\n",
    "prob = normal_cumulative(num_tickets, mean_, std_)\n",
    "print(f\"{prob:.4f}\")"
   ]
  },
  {
   "cell_type": "markdown",
   "metadata": {},
   "source": [
    "# Question 7\n",
    "\n",
    "## Central Limit Theorem III\n",
    "\n",
    "https://www.hackerrank.com/challenges/s10-the-central-limit-theorem-3/problem"
   ]
  },
  {
   "cell_type": "code",
   "execution_count": 37,
   "metadata": {},
   "outputs": [
    {
     "name": "stdout",
     "output_type": "stream",
     "text": [
      "100\n",
      "500\n",
      "80\n",
      "0.95\n",
      "1.96\n",
      "484.32\n",
      "515.68\n"
     ]
    }
   ],
   "source": [
    "\n",
    "\n",
    "samples = float(input())\n",
    "mean = float(input())\n",
    "sd = float(input())\n",
    "interval = float(input())\n",
    "z = float (input())\n",
    "\n",
    "print(round(mean - (sd / (samples ** 0.5))* z,2))\n",
    "print(round(mean + (sd / (samples ** 0.5))* z,2))"
   ]
  },
  {
   "cell_type": "markdown",
   "metadata": {},
   "source": [
    "# Question 8\n",
    "\n",
    "## Pearson Correlation Coefficient I\n",
    "\n",
    "https://www.hackerrank.com/challenges/s10-pearson-correlation-coefficient/problem"
   ]
  },
  {
   "cell_type": "code",
   "execution_count": 38,
   "metadata": {},
   "outputs": [
    {
     "name": "stdout",
     "output_type": "stream",
     "text": [
      "10\n",
      "10 9.8 8 7.8 7.7 7 6 5 4 2 \n",
      "200 44 32 24 22 17 15 12 8 4                             \n",
      "0.612\n"
     ]
    }
   ],
   "source": [
    "n = int(input())\n",
    "x = list(map(float,input().strip().split()))\n",
    "y = list(map(float,input().strip().split()))\n",
    "\n",
    "x_mean = sum(x) / n\n",
    "y_mean = sum(y) / n\n",
    "\n",
    "x_stddev = (sum([(i - x_mean)**2 for i in x]) / n)**0.5\n",
    "y_stddev = (sum([(j - y_mean)**2 for j in y]) / n)**0.5\n",
    "\n",
    "xy_covariance = sum([(x[k] - x_mean) * (y[k] - y_mean) for k in range(n)])\n",
    "\n",
    "pear_corr = xy_covariance / (n * x_stddev * y_stddev)\n",
    "\n",
    "print(round(pear_corr,3))"
   ]
  },
  {
   "cell_type": "markdown",
   "metadata": {},
   "source": [
    "# Question 9\n",
    "\n",
    "## Least Square Regression Line\n",
    "\n",
    "https://www.hackerrank.com/challenges/s10-least-square-regression-line/problem"
   ]
  },
  {
   "cell_type": "code",
   "execution_count": 49,
   "metadata": {},
   "outputs": [
    {
     "name": "stdout",
     "output_type": "stream",
     "text": [
      "95 85\n",
      "85 95\n",
      "80 70\n",
      "70 65\n",
      "60 70\n",
      "78.288\n"
     ]
    }
   ],
   "source": [
    "import math\n",
    "\n",
    "def std_dev(x):\n",
    "    mean = sum(x) / len(x)\n",
    "    diff = [x - mean for x in x]\n",
    "    sq_diff = [d ** 2 for d in diff]\n",
    "    sum_sqdiff = sum(sq_diff)\n",
    "    variance = sum_sqdiff / len(x)\n",
    "    stdev = math.sqrt(variance)\n",
    "    return stdev\n",
    "\n",
    "def cov(x,y):\n",
    "    mean_x = sum(x) / len(x)\n",
    "    mean_y = sum(y) / len(y)\n",
    "    res_cov = 0\n",
    "    for i in range(len(x)):\n",
    "        res_cov +=(x[i] - mean_x)*(y[i] - mean_y)\n",
    "    return res_cov/len(x)\n",
    "\n",
    "def corceff(x,y):\n",
    "    res_corceff = cov(x,y) / (std_dev(x)*std_dev(y))\n",
    "    return round(res_corceff, 3)\n",
    "\n",
    "x=[]\n",
    "y=[]\n",
    "\n",
    "for i in range(5):\n",
    "    a,b= input().split()\n",
    "    x.append(int(a))\n",
    "    y.append(int(b))\n",
    "    \n",
    "coeff = corceff(x,y)\n",
    "stddev_x = std_dev(x)\n",
    "stddev_y = std_dev(y)\n",
    "\n",
    "b = (coeff * stddev_y) / stddev_x\n",
    "\n",
    "mean_x = sum(x) / len(x)\n",
    "mean_y = sum(y) / len(y)\n",
    "\n",
    "a = mean_y - b * mean_x\n",
    "\n",
    "x = 80\n",
    "y = a + x*b\n",
    "print(round(y,3))"
   ]
  },
  {
   "cell_type": "markdown",
   "metadata": {},
   "source": [
    "# Question 10\n",
    "\n",
    "## Multiple Linear Regression\n",
    "\n",
    "https://www.hackerrank.com/challenges/s10-multiple-linear-regression/problem"
   ]
  },
  {
   "cell_type": "code",
   "execution_count": 50,
   "metadata": {},
   "outputs": [
    {
     "name": "stdout",
     "output_type": "stream",
     "text": [
      "2 7\n",
      "0.18 0.89 109.85\n",
      "1.0 0.26 155.72\n",
      "0.92 0.11 137.66\n",
      "0.07 0.37 76.17\n",
      "0.85 0.16 139.75\n",
      "0.99 0.41 162.6\n",
      "0.87 0.47 151.77\n",
      "4\n",
      "0.49 0.18\n",
      "0.57 0.83\n",
      "0.56 0.64\n",
      "0.76 0.18\n",
      "105.21\n",
      "142.67\n",
      "132.94\n",
      "129.7\n"
     ]
    }
   ],
   "source": [
    "from sklearn import linear_model\n",
    "\n",
    "m,n = input().split()\n",
    "m = int(m)\n",
    "n = int(n)\n",
    "\n",
    "x_train = []\n",
    "x_test = []\n",
    "y_train = []\n",
    "\n",
    "for i in range(n):\n",
    "    x = [float(a) for a in input().split()]\n",
    "    x_train.append(x[0:m])\n",
    "    y_train.append(x[m])\n",
    "    \n",
    "n_train = int(input())\n",
    "\n",
    "for j in range(n_train):\n",
    "    x=[float(a) for a in input().split()]\n",
    "    x_test.append(x)\n",
    "    \n",
    "model=linear_model.LinearRegression()\n",
    "model.fit(x_train, y_train) \n",
    "a=model.intercept_\n",
    "b=model.coef_\n",
    "y_pred=model.predict(x_test)\n",
    "for i in y_pred:\n",
    "    print(round(i,2))"
   ]
  }
 ],
 "metadata": {
  "kernelspec": {
   "display_name": "Python 3",
   "language": "python",
   "name": "python3"
  },
  "language_info": {
   "codemirror_mode": {
    "name": "ipython",
    "version": 3
   },
   "file_extension": ".py",
   "mimetype": "text/x-python",
   "name": "python",
   "nbconvert_exporter": "python",
   "pygments_lexer": "ipython3",
   "version": "3.8.5"
  }
 },
 "nbformat": 4,
 "nbformat_minor": 4
}
