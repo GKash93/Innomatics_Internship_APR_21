{
 "cells": [
  {
   "cell_type": "markdown",
   "metadata": {},
   "source": [
    "# Question 1\n",
    "\n",
    "## Arrays\n",
    "\n",
    "https://www.hackerrank.com/challenges/np-arrays/problem"
   ]
  },
  {
   "cell_type": "code",
   "execution_count": 2,
   "metadata": {},
   "outputs": [],
   "source": [
    "import numpy as np"
   ]
  },
  {
   "cell_type": "code",
   "execution_count": 4,
   "metadata": {},
   "outputs": [
    {
     "name": "stdout",
     "output_type": "stream",
     "text": [
      "1 2 3 4 -8 -10\n",
      "[-10.  -8.   4.   3.   2.   1.]\n"
     ]
    }
   ],
   "source": [
    "def arrays(arr):\n",
    "    numpy_array = np.array(arr)\n",
    "    float_array = numpy_array.astype(np.float)\n",
    "    reversed_array = float_array[::-1]\n",
    "    return reversed_array\n",
    "    \n",
    "arr = input().strip().split(' ')\n",
    "result = arrays(arr)\n",
    "print(result)"
   ]
  },
  {
   "cell_type": "markdown",
   "metadata": {},
   "source": [
    "# Question 2\n",
    "\n",
    "## Shape and Reshape\n",
    "\n",
    "https://www.hackerrank.com/challenges/np-shape-reshape/problem"
   ]
  },
  {
   "cell_type": "code",
   "execution_count": 7,
   "metadata": {},
   "outputs": [
    {
     "name": "stdout",
     "output_type": "stream",
     "text": [
      "1 2 3 4 5 6 7 8 9\n",
      "[[1 2 3]\n",
      " [4 5 6]\n",
      " [7 8 9]]\n"
     ]
    }
   ],
   "source": [
    "arr = input().strip().split(' ')\n",
    "\n",
    "my_array = np.array([arr]).astype(np.int)\n",
    "array_3d = np.reshape(my_array, (3,3))\n",
    "print(array_3d)"
   ]
  },
  {
   "cell_type": "markdown",
   "metadata": {},
   "source": [
    "# Question 3\n",
    "\n",
    "## Transpose and Flatten\n",
    "\n",
    "https://www.hackerrank.com/challenges/np-transpose-and-flatten/problem"
   ]
  },
  {
   "cell_type": "code",
   "execution_count": 41,
   "metadata": {},
   "outputs": [
    {
     "name": "stdout",
     "output_type": "stream",
     "text": [
      "2 2\n",
      "1 2\n",
      "3 4\n",
      "[[1 3]\n",
      " [2 4]]\n",
      "[1 2 3 4]\n"
     ]
    }
   ],
   "source": [
    "n,m = map(int, input().split(' '))\n",
    "arr = []\n",
    "for i in range(n):\n",
    "    arr.extend(list(map(int, input().split(' '))))\n",
    "my_array = np.array(arr).reshape(n,m)\n",
    "print(my_array.transpose())\n",
    "print(my_array.flatten())\n"
   ]
  },
  {
   "cell_type": "markdown",
   "metadata": {},
   "source": [
    "# Question 4\n",
    "\n",
    "## Concatenate\n",
    "\n",
    "https://www.hackerrank.com/challenges/np-concatenate/problem"
   ]
  },
  {
   "cell_type": "code",
   "execution_count": 46,
   "metadata": {},
   "outputs": [
    {
     "name": "stdout",
     "output_type": "stream",
     "text": [
      "4 3 2\n",
      "1 2\n",
      "1 2\n",
      "1 2\n",
      "1 2\n",
      "3 4\n",
      "3 4\n",
      "3 4\n",
      "[[1 2]\n",
      " [1 2]\n",
      " [1 2]\n",
      " [1 2]\n",
      " [3 4]\n",
      " [3 4]\n",
      " [3 4]]\n"
     ]
    }
   ],
   "source": [
    "n,m,p = map(int, input().split(' '))\n",
    "arr_1 = []\n",
    "arr_2 = []\n",
    "for i in range(n):\n",
    "    arr_1.extend(list(map(int, input().split(' '))))\n",
    "\n",
    "for j in range(m):\n",
    "    arr_2.extend(list(map(int, input().split(' '))))\n",
    "    \n",
    "my_array_1 = np.array(arr_1).reshape(n,p)\n",
    "my_array_2 = np.array(arr_2).reshape(m,p)\n",
    "\n",
    "print(np.concatenate((my_array_1, my_array_2)))"
   ]
  },
  {
   "cell_type": "markdown",
   "metadata": {},
   "source": [
    "# Question 5\n",
    "\n",
    "## Zeros and Ones\n",
    "\n",
    "https://www.hackerrank.com/challenges/np-zeros-and-ones/problem"
   ]
  },
  {
   "cell_type": "code",
   "execution_count": 48,
   "metadata": {},
   "outputs": [
    {
     "name": "stdout",
     "output_type": "stream",
     "text": [
      "4 4 4\n",
      "[[[0 0 0 0]\n",
      "  [0 0 0 0]\n",
      "  [0 0 0 0]\n",
      "  [0 0 0 0]]\n",
      "\n",
      " [[0 0 0 0]\n",
      "  [0 0 0 0]\n",
      "  [0 0 0 0]\n",
      "  [0 0 0 0]]\n",
      "\n",
      " [[0 0 0 0]\n",
      "  [0 0 0 0]\n",
      "  [0 0 0 0]\n",
      "  [0 0 0 0]]\n",
      "\n",
      " [[0 0 0 0]\n",
      "  [0 0 0 0]\n",
      "  [0 0 0 0]\n",
      "  [0 0 0 0]]]\n",
      "[[[1 1 1 1]\n",
      "  [1 1 1 1]\n",
      "  [1 1 1 1]\n",
      "  [1 1 1 1]]\n",
      "\n",
      " [[1 1 1 1]\n",
      "  [1 1 1 1]\n",
      "  [1 1 1 1]\n",
      "  [1 1 1 1]]\n",
      "\n",
      " [[1 1 1 1]\n",
      "  [1 1 1 1]\n",
      "  [1 1 1 1]\n",
      "  [1 1 1 1]]\n",
      "\n",
      " [[1 1 1 1]\n",
      "  [1 1 1 1]\n",
      "  [1 1 1 1]\n",
      "  [1 1 1 1]]]\n"
     ]
    }
   ],
   "source": [
    "ss_integers= list(map(int, input().split(' ')))\n",
    "print(np.zeros((ss_integers)).astype(np.int))\n",
    "print(np.ones((ss_integers)).astype(np.int))"
   ]
  },
  {
   "cell_type": "markdown",
   "metadata": {},
   "source": [
    "# Question 6\n",
    "\n",
    "## Eye and Identify\n",
    "\n",
    "https://www.hackerrank.com/challenges/np-eye-and-identity/problem"
   ]
  },
  {
   "cell_type": "code",
   "execution_count": 52,
   "metadata": {},
   "outputs": [
    {
     "name": "stdout",
     "output_type": "stream",
     "text": [
      "3 3\n",
      "[[1. 0. 0.]\n",
      " [0. 1. 0.]\n",
      " [0. 0. 1.]]\n"
     ]
    }
   ],
   "source": [
    "n,m = map(int, input().split(' '))\n",
    "print(np.eye(n,m))"
   ]
  },
  {
   "cell_type": "markdown",
   "metadata": {},
   "source": [
    "# Question 7\n",
    "\n",
    "## Array Mathematics\n",
    "\n",
    "https://www.hackerrank.com/challenges/np-array-mathematics/problem"
   ]
  },
  {
   "cell_type": "code",
   "execution_count": 58,
   "metadata": {},
   "outputs": [
    {
     "name": "stdout",
     "output_type": "stream",
     "text": [
      "1 4\n",
      "1 2 3 4\n",
      "5 6 7 8\n",
      "[[ 6  8 10 12]]\n",
      "[[-4 -4 -4 -4]]\n",
      "[[ 5 12 21 32]]\n",
      "[[0 0 0 0]]\n",
      "[[1 2 3 4]]\n",
      "[[    1    64  2187 65536]]\n"
     ]
    }
   ],
   "source": [
    "n,m = map(int, input().split(' '))\n",
    "arr_1 = []\n",
    "arr_2 = []\n",
    "for i in range(n):\n",
    "    arr_1.extend(list(map(int, input().split(' '))))\n",
    "\n",
    "for j in range(n):\n",
    "    arr_2.extend(list(map(int, input().split(' '))))\n",
    "    \n",
    "a = np.array(arr_1).reshape(n,m)\n",
    "b = np.array(arr_2).reshape(n,m)\n",
    "\n",
    "print(np.add(a,b))\n",
    "print(np.subtract(a,b))\n",
    "print(np.multiply(a,b))\n",
    "print(np.floor_divide(a,b))\n",
    "print(np.mod(a,b))\n",
    "print(np.power(a,b))"
   ]
  },
  {
   "cell_type": "markdown",
   "metadata": {},
   "source": [
    "# Question 8\n",
    "\n",
    "## Floor, Ceil and Rint\n",
    "\n",
    "https://www.hackerrank.com/challenges/floor-ceil-and-rint/problem"
   ]
  },
  {
   "cell_type": "code",
   "execution_count": 61,
   "metadata": {},
   "outputs": [
    {
     "name": "stdout",
     "output_type": "stream",
     "text": [
      "1.1 2.2 3.3 4.4 5.5 6.6 7.7 8.8 9.9\n",
      "[1. 2. 3. 4. 5. 6. 7. 8. 9.]\n",
      "[ 2.  3.  4.  5.  6.  7.  8.  9. 10.]\n",
      "[ 1.  2.  3.  4.  6.  7.  8.  9. 10.]\n"
     ]
    }
   ],
   "source": [
    "A = np.array(list(input().split(' ')), float)\n",
    "print(np.floor(A))\n",
    "print(np.ceil(A))\n",
    "print(np.rint(A))"
   ]
  },
  {
   "cell_type": "markdown",
   "metadata": {},
   "source": [
    "# Question 9\n",
    "\n",
    "## Sum and Prod\n",
    "\n",
    "https://www.hackerrank.com/challenges/np-sum-and-prod/problem"
   ]
  },
  {
   "cell_type": "code",
   "execution_count": 63,
   "metadata": {},
   "outputs": [
    {
     "name": "stdout",
     "output_type": "stream",
     "text": [
      "2 2\n",
      "1 2\n",
      "3 4\n",
      "24\n"
     ]
    }
   ],
   "source": [
    "n,m = map(int, input().split(' '))\n",
    "arr = []\n",
    "for i in range(n):\n",
    "    arr.extend(list(map(int, input().split(' '))))\n",
    "    \n",
    "my_prod_array = np.array(arr).reshape(n,m)\n",
    "\n",
    "arr_prod = 1\n",
    "\n",
    "for i in range(len(np.sum(my_prod_array, axis = 0))):\n",
    "    arr_prod *= (np.sum(my_prod_array, axis = 0)[i])\n",
    "    \n",
    "print(arr_prod)"
   ]
  },
  {
   "cell_type": "markdown",
   "metadata": {},
   "source": [
    "# Question 10\n",
    "\n",
    "## Min and Max\n",
    "\n",
    "https://www.hackerrank.com/challenges/np-min-and-max/problem"
   ]
  },
  {
   "cell_type": "code",
   "execution_count": 66,
   "metadata": {},
   "outputs": [
    {
     "name": "stdout",
     "output_type": "stream",
     "text": [
      "4 2\n",
      "3 5\n",
      "3 7\n",
      "1 3\n",
      "4 0\n",
      "[[3 5]\n",
      " [3 7]\n",
      " [1 3]\n",
      " [4 0]]\n",
      "[3 3 1 0]\n",
      "3\n"
     ]
    }
   ],
   "source": [
    "n,m = map(int, input().split(' '))\n",
    "arr = []\n",
    "for i in range(n):\n",
    "    arr.extend(list(map(int, input().split(' '))))\n",
    "    \n",
    "my_max_array = np.array(arr).reshape(n,m)\n",
    "print(my_max_array)\n",
    "\n",
    "my_min_array = np.min(my_max_array,axis = 1)\n",
    "print(my_min_array)\n",
    "my_max_min_array = np.max(my_min_array)\n",
    "print(my_max_min_array)"
   ]
  },
  {
   "cell_type": "markdown",
   "metadata": {},
   "source": [
    "# Question 11\n",
    "\n",
    "## Mean,Var, and Std\n",
    "\n",
    "https://www.hackerrank.com/challenges/np-mean-var-and-std/problem"
   ]
  },
  {
   "cell_type": "code",
   "execution_count": 67,
   "metadata": {},
   "outputs": [
    {
     "name": "stdout",
     "output_type": "stream",
     "text": [
      "2 2\n",
      "1 2\n",
      "3 4\n",
      "[[1 2]\n",
      " [3 4]]\n",
      "[1.5 3.5]\n",
      "[1. 1.]\n",
      "1.118033988749895\n"
     ]
    }
   ],
   "source": [
    "n,m = map(int, input().split(' '))\n",
    "arr = []\n",
    "for i in range(n):\n",
    "    arr.extend(list(map(int, input().split(' '))))\n",
    "    \n",
    "My_arr = np.array(arr).reshape(n,m)\n",
    "print(My_arr)\n",
    "print(np.mean(My_arr, axis = 1))\n",
    "print(np.var(My_arr, axis = 0))\n",
    "print(np.std(My_arr, axis = None))"
   ]
  },
  {
   "cell_type": "markdown",
   "metadata": {},
   "source": [
    "# Question 12\n",
    "\n",
    "## Dot and Cross\n",
    "\n",
    "https://www.hackerrank.com/challenges/np-dot-and-cross/problem"
   ]
  },
  {
   "cell_type": "code",
   "execution_count": 70,
   "metadata": {},
   "outputs": [
    {
     "name": "stdout",
     "output_type": "stream",
     "text": [
      "2\n",
      "1 2\n",
      "3 4\n",
      "1 2\n",
      "3 4\n",
      "[[ 7 10]\n",
      " [15 22]]\n"
     ]
    }
   ],
   "source": [
    "n = int(input())\n",
    "arr_A = []\n",
    "arr_B = []\n",
    "\n",
    "for i in range(n):\n",
    "    arr_A.extend(list(map(int, input().split(' '))))\n",
    "    \n",
    "for j in range(n):\n",
    "    arr_B.extend(list(map(int, input().split(' '))))\n",
    "    \n",
    "A = np.array(arr_A).reshape(n,n)\n",
    "B = np.array(arr_B).reshape(n,n)\n",
    "\n",
    "print(np.dot(A,B))"
   ]
  },
  {
   "cell_type": "markdown",
   "metadata": {},
   "source": [
    "# Question 13\n",
    "\n",
    "## Inner and Outer\n",
    "\n",
    "https://www.hackerrank.com/challenges/np-inner-and-outer/problem"
   ]
  },
  {
   "cell_type": "code",
   "execution_count": 71,
   "metadata": {},
   "outputs": [
    {
     "name": "stdout",
     "output_type": "stream",
     "text": [
      "0 1\n",
      "2 3\n",
      "3\n",
      "[[0 0]\n",
      " [2 3]]\n"
     ]
    }
   ],
   "source": [
    "A = np.array(input().split(),int)\n",
    "B = np.array(input().split(),int)\n",
    "print(np.inner(A,B),np.outer(A,B), sep = \"\\n\")"
   ]
  },
  {
   "cell_type": "markdown",
   "metadata": {},
   "source": [
    "# Question 14\n",
    "\n",
    "## Polynomials\n",
    "\n",
    "https://www.hackerrank.com/challenges/np-polynomials/problem"
   ]
  },
  {
   "cell_type": "code",
   "execution_count": 72,
   "metadata": {},
   "outputs": [
    {
     "name": "stdout",
     "output_type": "stream",
     "text": [
      "[  1. -11.   9.  11. -10.]\n"
     ]
    }
   ],
   "source": [
    "print(np.poly([-1, 1, 1, 10]))"
   ]
  },
  {
   "cell_type": "code",
   "execution_count": 74,
   "metadata": {},
   "outputs": [
    {
     "name": "stdout",
     "output_type": "stream",
     "text": [
      "1.1 2 3\n",
      "0\n",
      "3.0\n"
     ]
    }
   ],
   "source": [
    "P = list(map(float,input().split()))\n",
    "x = int(input())\n",
    "print(np.polyval(P,x))"
   ]
  },
  {
   "cell_type": "markdown",
   "metadata": {},
   "source": [
    "# Question 15\n",
    "\n",
    "## Linear Alzebra\n",
    "\n",
    "https://www.hackerrank.com/challenges/np-linear-algebra/problem"
   ]
  },
  {
   "cell_type": "code",
   "execution_count": 77,
   "metadata": {},
   "outputs": [
    {
     "name": "stdout",
     "output_type": "stream",
     "text": [
      "2\n",
      "1.1 1.1\n",
      "1.1 1.2\n",
      "0.11\n"
     ]
    }
   ],
   "source": [
    "import numpy as np\n",
    "\n",
    "n = int(input())\n",
    "arr = []\n",
    "for i in range(n):\n",
    "    arr.extend(list(map(float,input().split())))\n",
    "A = np.array(arr).reshape(n,n)\n",
    "print(round(np.linalg.det(A),2))\n"
   ]
  }
 ],
 "metadata": {
  "kernelspec": {
   "display_name": "Python 3",
   "language": "python",
   "name": "python3"
  },
  "language_info": {
   "codemirror_mode": {
    "name": "ipython",
    "version": 3
   },
   "file_extension": ".py",
   "mimetype": "text/x-python",
   "name": "python",
   "nbconvert_exporter": "python",
   "pygments_lexer": "ipython3",
   "version": "3.8.5"
  }
 },
 "nbformat": 4,
 "nbformat_minor": 4
}
