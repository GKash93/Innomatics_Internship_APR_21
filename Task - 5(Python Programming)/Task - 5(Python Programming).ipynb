{
 "cells": [
  {
   "cell_type": "markdown",
   "metadata": {},
   "source": [
    "# Question 1\n",
    "\n",
    "## Detect Floating Point Number\n",
    "\n",
    "https://www.hackerrank.com/challenges/introduction-to-regex/problem\n",
    "\n",
    "\n",
    "Regular Expression is a power tool which can be used to parse a text to find particular pattren. \n",
    "\n",
    "To search, we use re.search\n",
    "To match a pattern, we use re.match\n",
    "\n",
    "since pattern are searched or matched, we use '', \"\". \n",
    "Below example \n",
    "\n",
    "                '^[-+]?[0-9]*\\.[0-9]+$'\n",
    "                \n",
    "                * ^ : start the regular expression pattern \n",
    "                * [-+] : use this to specify that you are expecting the pattern to match starting with + or - operators\n",
    "                * ? : used to represent next pattern while matching\n",
    "                * [0-9] : match nly pattern containing number\n",
    "                * star or asterix(*) : zero or more occurance of the pattern\n",
    "                * \\ or right slant : signals a special sequece or escape from the special characters\n",
    "                * . or (dot) : Any character(expect an inline character)\n",
    "                * + : One or more occurances\n",
    "                * $ : end the regular expression pattern\n",
    "                "
   ]
  },
  {
   "cell_type": "code",
   "execution_count": 5,
   "metadata": {},
   "outputs": [
    {
     "name": "stdout",
     "output_type": "stream",
     "text": [
      "4\n",
      "4.0o0\n",
      "False\n",
      "-1.00\n",
      "True\n",
      "+4.54\n",
      "True\n",
      "SomeRandomStuff\n",
      "False\n"
     ]
    }
   ],
   "source": [
    "import re\n",
    "\n",
    "for _ in range(int(input())):\n",
    "    print(bool(re.match('^[-+]?[0-9]*\\.[0-9]+$', input())))"
   ]
  },
  {
   "cell_type": "markdown",
   "metadata": {},
   "source": [
    "# Question 2\n",
    "\n",
    "## Re.Split()\n",
    "\n",
    "https://www.hackerrank.com/challenges/re-split/problem "
   ]
  },
  {
   "cell_type": "code",
   "execution_count": 7,
   "metadata": {},
   "outputs": [
    {
     "name": "stdout",
     "output_type": "stream",
     "text": [
      "100,000,000.000\n",
      "100\n",
      "000\n",
      "000\n",
      "000\n"
     ]
    }
   ],
   "source": [
    "regex_pattern = r\"[,.]\"\n",
    "\n",
    "print(\"\\n\".join(re.split(regex_pattern, input())))"
   ]
  },
  {
   "cell_type": "markdown",
   "metadata": {},
   "source": [
    "# Question 3\n",
    "\n",
    "## Group(), Groups() & Groupdict()\n",
    "\n",
    "https://www.hackerrank.com/challenges/re-group-groups/problem"
   ]
  },
  {
   "cell_type": "code",
   "execution_count": 12,
   "metadata": {},
   "outputs": [
    {
     "name": "stdout",
     "output_type": "stream",
     "text": [
      "..12345678910111213141516171820212223\n",
      "1\n"
     ]
    }
   ],
   "source": [
    "import re\n",
    "regex_patterns = r\"([A-Za-z0-9])\\1+\"\n",
    "\n",
    "pattern = re.search(regex_patterns, input())\n",
    "\n",
    "if pattern:\n",
    "    print(pattern.group(1))\n",
    "    \n",
    "else:\n",
    "    print(-1)"
   ]
  },
  {
   "cell_type": "markdown",
   "metadata": {},
   "source": [
    "# Question 4\n",
    "\n",
    "## Re.findall() & Re.finditer()\n",
    "\n",
    "https://www.hackerrank.com/challenges/re-findall-re-finditer/problem\n",
    "\n",
    "WRT https://docs.python.org/3/library/re.html\n",
    "\n",
    "re.findall(pattern, string, flag=0)\n",
    "\n",
    "pattern : 2 cononants with a vowel in between\n",
    "\n",
    "?<= matches if the current position in the string is preceded by a match\n",
    "\n",
    "?<=[%s] - matches the character"
   ]
  },
  {
   "cell_type": "code",
   "execution_count": 20,
   "metadata": {},
   "outputs": [
    {
     "name": "stdout",
     "output_type": "stream",
     "text": [
      "match a single character not present in the list below\n",
      "-1\n"
     ]
    }
   ],
   "source": [
    "import re\n",
    "\n",
    "s=input()\n",
    "v='aeiou'\n",
    "c='qwrtypsdfghjklzxcvbnm'\n",
    "l = re.findall(r\"(?<=[%s])([%s]{2,})[%s]\"%(c,v,c),s, flags=re.IGNORECASE)\n",
    "\n",
    "if l == []:\n",
    "    print(-1)\n",
    "else:\n",
    "    for i in l:\n",
    "        print(i)"
   ]
  },
  {
   "cell_type": "markdown",
   "metadata": {},
   "source": [
    "# Question 5\n",
    "\n",
    "## Re.start & Re.end()\n",
    "\n",
    "https://www.hackerrank.com/challenges/re-start-re-end/problem\n",
    "\n",
    "    Find k in s\n",
    "3. pattern = re.compile(k)\n",
    "    creates a regex object\n",
    "\n",
    "4. m = pattern.search(s)\n",
    "    simply read as re.compile(k).search(s)\n",
    "    \n",
    "6. if not m: print(\" (-1, -1) \" )\n",
    "    if pattern is not present, print a tuple (-1, -1)\n",
    "    \n",
    "11. else: \n",
    "12. while m: \n",
    "    if m is in pattern and while m is true\n",
    "    \n",
    "13. print(\"({0}, {1})\".format(m.start(), m.end() - 1))\n",
    "    0, 1 is the place where display the out in the tuple,\n",
    "    %.format() -  used to print the with the corect position\n",
    "    m.start() - The position from which the tuple is being parsed if the pattern exist\n",
    "    m.end() - 1  - The position from which the tuple is end at and n-1th position of the end\n",
    "    \n",
    "14. m = pattern.search(s, m.start() + 1)\n",
    "    we need to parse the pattern to continue search, so we give string, iterate the start position m by 1 until the end has been reached."
   ]
  },
  {
   "cell_type": "code",
   "execution_count": 22,
   "metadata": {},
   "outputs": [
    {
     "name": "stdout",
     "output_type": "stream",
     "text": [
      "hbcasckjabchsdcsdcgvdsjhvcb\n",
      "q\n",
      "(-1,-1)\n"
     ]
    }
   ],
   "source": [
    "import re\n",
    "\n",
    "s = input()\n",
    "k = input()\n",
    "\n",
    "pattern = re.compile(k)\n",
    "m = pattern.search(s)\n",
    "\n",
    "if not m:\n",
    "    print(\"(-1, -1)\")\n",
    "else:\n",
    "    while m:\n",
    "        print(\"({0}, {1})\".format(m.start(), m.end() - 1))\n",
    "        m = pattern.search(s, m.start() + 1)"
   ]
  },
  {
   "cell_type": "markdown",
   "metadata": {},
   "source": [
    "# Question 6\n",
    "\n",
    "## Regex Substitution\n",
    "\n",
    "https://www.hackerrank.com/challenges/re-sub-regex-substitution/problem"
   ]
  },
  {
   "cell_type": "code",
   "execution_count": 27,
   "metadata": {},
   "outputs": [
    {
     "name": "stdout",
     "output_type": "stream",
     "text": [
      "1\n",
      "a = 1; b = input(); if a + b > 0 && a - b < 0:     start() elif a*b > 10 || a/b < 1:     stop() print set(list(a)) | set(list(b)) #Note do not change &&& or ||| or & or | #Only change those '&&' which have space on both sides. #Only change those '|| which have space on both sides. Expected Output  Download a = 1; b = input(); if a + b > 0 and a - b < 0:     start() elif a*b > 10 or a/b < 1:     stop() print set(list(a)) | set(list(b)) #Note do not change &&& or ||| or & or | #Only change those '&&' which have space on both sides. #Only change those '|| which have space on both sides.\n",
      "\n",
      "\n",
      " a = 1; b = input(); if a + b > 0 and a - b < 0:     start() elif a*b > 10 or a/b < 1:     stop() print set(list(a)) | set(list(b)) #Note do not change &&& or ||| or & or | #Only change those '&&' which have space on both sides. #Only change those '|| which have space on both sides. Expected Output  Download a = 1; b = input(); if a + b > 0 and a - b < 0:     start() elif a*b > 10 or a/b < 1:     stop() print set(list(a)) | set(list(b)) #Note do not change &&& or ||| or & or | #Only change those '&&' which have space on both sides. #Only change those '|| which have space on both sides.\n"
     ]
    }
   ],
   "source": [
    "import re\n",
    "\n",
    "pattern = r\"(?<= )(&&|\\|\\|)(?= )\"\n",
    "replacement = lambda x: \"and\" if x.group() == \"&&\" else \"or\"\n",
    "\n",
    "for i in range(int(input())):\n",
    "    s=input()\n",
    "    print(\"\\n\\n\",re.sub(pattern, replacement, s))"
   ]
  },
  {
   "cell_type": "markdown",
   "metadata": {},
   "source": [
    "# Question 7\n",
    "\n",
    "## Validating Roman Numerals\n",
    "\n",
    "https://www.hackerrank.com/challenges/validate-a-roman-number/problem\n",
    "\n",
    "Screened : https://stackoverflow.com/questions/267399/how-do-you-match-only-valid-roman-numerals-with-a-regular-expression"
   ]
  },
  {
   "cell_type": "code",
   "execution_count": 32,
   "metadata": {},
   "outputs": [
    {
     "name": "stdout",
     "output_type": "stream",
     "text": [
      "MMMM\n",
      "True\n"
     ]
    }
   ],
   "source": [
    "thousand = 'M{0,3}'\n",
    "hundred = '(C[MD]|D?C{0,3})'\n",
    "ten = '(X[CL]|L?X{0,3})'\n",
    "digit = '(I[VX]|V?I{0,3})'\n",
    "regex_pattern = r\"%s%s%s%s$\" % (thousand, hundred, ten, digit) \n",
    "import re\n",
    "print(str(bool(re.match(regex_pattern, input()))))"
   ]
  },
  {
   "cell_type": "markdown",
   "metadata": {},
   "source": [
    "# Question 8\n",
    "\n",
    "## Validating Phone Numbers\n",
    "\n",
    "https://www.hackerrank.com/challenges/validating-the-phone-number/problem"
   ]
  },
  {
   "cell_type": "code",
   "execution_count": 37,
   "metadata": {},
   "outputs": [
    {
     "name": "stdout",
     "output_type": "stream",
     "text": [
      "2\n",
      "9587456281\n",
      "YES\n",
      "1252478965\n",
      "NO\n"
     ]
    }
   ],
   "source": [
    "import re\n",
    "\n",
    "def validator(number):\n",
    "    pattern = r\"[789]\\d{9}$\"\n",
    "    if re.match(pattern, number):\n",
    "        return \"YES\"\n",
    "    else:\n",
    "        return \"NO\"\n",
    "    \n",
    "n = int(input())\n",
    "for i in range(n):\n",
    "    print(validator(input()))"
   ]
  },
  {
   "cell_type": "markdown",
   "metadata": {},
   "source": [
    "# Question 9\n",
    "\n",
    "## Validating and Parsing Email Addresses\n",
    "\n",
    "https://www.hackerrank.com/challenges/validating-named-email-addresses/problem"
   ]
  },
  {
   "cell_type": "code",
   "execution_count": 46,
   "metadata": {},
   "outputs": [
    {
     "name": "stdout",
     "output_type": "stream",
     "text": [
      "7\n",
      "dheeraj <dheeraj-234@gmail.com>\n",
      "dheeraj <dheeraj-234@gmail.com>\n",
      "crap <itsallcrap>\n",
      "harsh <harsh_1234@rediff.in>\n",
      "harsh <harsh_1234@rediff.in>\n",
      "kumal <kunal_shin@iop.az>\n",
      "kumal <kunal_shin@iop.az>\n",
      "mattp <matt23@@india.in>\n",
      "harsh <.harsh_1234@rediff.in>\n",
      "harsh <-harsh_1234@rediff.in>\n"
     ]
    }
   ],
   "source": [
    "from re import *\n",
    "\n",
    "username = r'([a-z][\\w+-._]+)'\n",
    "domain = r'([a-z]+)'\n",
    "extension = r'([a-z]{1,3})'\n",
    "reg = '^<' + username + '@' + domain + r'\\.' + extension + '>$'\n",
    "for i in range(int(input())):\n",
    "    a, b = input().split()\n",
    "    if match(reg, b):\n",
    "        print(a, b)"
   ]
  },
  {
   "cell_type": "markdown",
   "metadata": {},
   "source": [
    "# Question 10\n",
    "\n",
    "## Hex Color Code\n",
    "\n",
    "https://www.hackerrank.com/challenges/hex-color-code/problem"
   ]
  },
  {
   "cell_type": "code",
   "execution_count": 50,
   "metadata": {},
   "outputs": [
    {
     "name": "stdout",
     "output_type": "stream",
     "text": [
      "11\n",
      "#BED\n",
      "{\n",
      "color: #FfFdF8; background-color:#aef;\n",
      "#FfFdF8\n",
      "#aef\n",
      "font-size: 123px;\n",
      "\n",
      "}\n",
      "#Cab\n",
      "{\n",
      "background-color: #ABC;\n",
      "#ABC\n",
      "border: 2px dashed #fff;\n",
      "#fff\n",
      "}\n"
     ]
    }
   ],
   "source": [
    "import re\n",
    "in_css = False\n",
    "\n",
    "n = int(input())\n",
    "\n",
    "for _ in range(n):\n",
    "    line = input()\n",
    "    \n",
    "    if '{' in line:\n",
    "        in_css = True\n",
    "    elif '}' in line:\n",
    "        in_css = False\n",
    "    elif in_css:\n",
    "        for color in re.findall('#[0-9a-fA-F]{3,6}', line):\n",
    "            print(color)"
   ]
  },
  {
   "cell_type": "markdown",
   "metadata": {},
   "source": [
    "# Question 11\n",
    "\n",
    "## HTML Parser - Part 1\n",
    "\n",
    "https://www.hackerrank.com/challenges/html-parser-part-1/problem"
   ]
  },
  {
   "cell_type": "code",
   "execution_count": 55,
   "metadata": {},
   "outputs": [
    {
     "name": "stdout",
     "output_type": "stream",
     "text": [
      "2\n",
      "<html><head><title>HTML Parser - I</title></head>\n",
      "Start : html\n",
      "Start : head\n",
      "Start : title\n",
      "End : title\n",
      "End : head\n",
      "<body data-modal-target class='1'><h1>HackerRank</h1><br /></body></html>\n",
      "Start : body\n",
      "-> data-modal-target > None\n",
      "-> class > 1\n",
      "Start : h1\n",
      "End : h1\n",
      "Empty : br\n",
      "End : body\n",
      "End : html\n"
     ]
    }
   ],
   "source": [
    "from html.parser import HTMLParser\n",
    "\n",
    "# create a subclass and override the handler methods\n",
    "class MyHTMLParser(HTMLParser):\n",
    "    def handle_starttag(self, tag, attrs):\n",
    "        print('Start :', tag)\n",
    "        for ele in attrs:\n",
    "            print(\"->\", ele[0],\">\", ele[1])\n",
    "    def handle_endtag(self, tag):\n",
    "        print('End :', tag)\n",
    "    def handle_startendtag(self, tag, attrs):\n",
    "        print('Empty :', tag)\n",
    "        for ele in attrs:\n",
    "            print(\"->\", ele[0],\">\", ele[1])\n",
    "\n",
    "# instantiate the parser and fed it some HTML\n",
    "parser = MyHTMLParser()\n",
    "for _ in range(int(input())):\n",
    "                  parser.feed(input())"
   ]
  },
  {
   "cell_type": "markdown",
   "metadata": {},
   "source": [
    "# Question 12\n",
    "\n",
    "## HTML Parser - 2\n",
    "\n",
    "https://www.hackerrank.com/challenges/html-parser-part-2/problem"
   ]
  },
  {
   "cell_type": "code",
   "execution_count": 56,
   "metadata": {},
   "outputs": [
    {
     "name": "stdout",
     "output_type": "stream",
     "text": [
      "4\n",
      "<!--[if IE 9]>IE9-specific content\n",
      "<![endif]-->\n",
      "<div> Welcome to HackerRank</div>\n",
      "<!--[if IE 9]>IE9-specific content<![endif]-->\n",
      ">>> Multi-line Comment\n",
      "[if IE 9]>IE9-specific content\n",
      "<![endif]\n",
      ">>> Data\n",
      " Welcome to HackerRank\n",
      ">>> Single-line Comment\n",
      "[if IE 9]>IE9-specific content<![endif]\n"
     ]
    }
   ],
   "source": [
    "from html.parser import HTMLParser\n",
    "\n",
    "class MyHTMLParser(HTMLParser):\n",
    "    def handle_comment(self, comment):\n",
    "        if '\\n' in comment:\n",
    "            print('>>> Multi-line Comment')\n",
    "        else:\n",
    "            print(\">>> Single-line Comment\")\n",
    "\n",
    "        print(comment)\n",
    "  \n",
    "    def handle_data(self, data):\n",
    "        if data == '\\n': return\n",
    "        print(\">>> Data\")\n",
    "        print(data)\n",
    "   \n",
    "html = \"\"       \n",
    "for i in range(int(input())):\n",
    "    html += input().rstrip()\n",
    "    html += '\\n'\n",
    "    \n",
    "parser = MyHTMLParser()\n",
    "parser.feed(html)\n",
    "parser.close()"
   ]
  },
  {
   "cell_type": "markdown",
   "metadata": {},
   "source": [
    "# Question 13\n",
    "\n",
    "## Detect HTML Tags, Attributes and Attribute Values\n",
    "\n",
    "https://www.hackerrank.com/challenges/detect-html-tags-attributes-and-attribute-values/problem"
   ]
  },
  {
   "cell_type": "code",
   "execution_count": 57,
   "metadata": {},
   "outputs": [
    {
     "name": "stdout",
     "output_type": "stream",
     "text": [
      "9\n",
      "<head>\n",
      "<title>HTML</title>\n",
      "</head>\n",
      "<object type=\"application/x-flash\"\n",
      "  data=\"your-file.swf\"\n",
      "  width=\"0\" height=\"0\">\n",
      "  <!-- <param name=\"movie\" value=\"your-file.swf\" /> -->\n",
      "  <param name=\"quality\" value=\"high\"/>\n",
      "</object>\n",
      "head\n",
      "title\n",
      "object\n",
      "-> type > application/x-flash\n",
      "-> data > your-file.swf\n",
      "-> width > 0\n",
      "-> height > 0\n",
      "param\n",
      "-> name > quality\n",
      "-> value > high\n"
     ]
    }
   ],
   "source": [
    "from html.parser import HTMLParser \n",
    "\n",
    "class MyHTMLParser(HTMLParser):\n",
    "    def handle_starttag(self, tag, attrs):\n",
    "        print(tag)\n",
    "        for at, value in attrs:\n",
    "            print(\"->\", at, \">\", value)\n",
    "    def handle_startendtag(self, tag, attrs):\n",
    "        print(tag)\n",
    "        for at, value in attrs:\n",
    "            print(\"->\", at, \">\", value)\n",
    "            \n",
    "html = \"\"\n",
    "for i in range(int(input())):\n",
    "    html += input().rstrip()\n",
    "    html += '\\n'\n",
    "    \n",
    "parser = MyHTMLParser()\n",
    "parser.feed(html)\n",
    "parser.close()"
   ]
  },
  {
   "cell_type": "markdown",
   "metadata": {},
   "source": [
    "# Question 14\n",
    "\n",
    "## Validating UID\n",
    "\n",
    "https://www.hackerrank.com/challenges/validating-uid/problem"
   ]
  },
  {
   "cell_type": "code",
   "execution_count": 59,
   "metadata": {},
   "outputs": [
    {
     "name": "stdout",
     "output_type": "stream",
     "text": [
      "2\n",
      "B1CD102354\n",
      "Invalid\n",
      "B1CDEF2354\n",
      "Valid\n"
     ]
    }
   ],
   "source": [
    "import re\n",
    "\n",
    "for i in range(int(input())):\n",
    "    N = input().strip()\n",
    "    if N.isalnum() and len(N) == 10:\n",
    "        if bool(re.search(r'(.*[A-Z]){2,}',N)) and bool(re.search(r'(.*[0-9]){3,}',N)):\n",
    "            if re.search(r'.*(.).*\\1+.*',N):\n",
    "                print(\"Invalid\")\n",
    "            else:\n",
    "                print(\"Valid\")\n",
    "        else:\n",
    "            print(\"Invalid\")\n",
    "    else:\n",
    "        print(\"Invalid\")"
   ]
  },
  {
   "cell_type": "markdown",
   "metadata": {},
   "source": [
    "# Question 15\n",
    "\n",
    "## Validating Credit Card Number\n",
    "\n",
    "https://www.hackerrank.com/challenges/validating-credit-card-number/problem"
   ]
  },
  {
   "cell_type": "code",
   "execution_count": 60,
   "metadata": {},
   "outputs": [
    {
     "name": "stdout",
     "output_type": "stream",
     "text": [
      "6\n",
      "4123456789123456\n",
      "Valid\n",
      "5123-4567-8912-3456\n",
      "Valid\n",
      "61234-567-8912-3456\n",
      "Invalid\n",
      "4123356789123456\n",
      "Valid\n",
      "5133-3367-8912-3456\n",
      "Invalid\n",
      "5123 - 3567 - 8912 - 3456\n",
      "Invalid\n"
     ]
    }
   ],
   "source": [
    "import re\n",
    "\n",
    "for i in range(int(input())):\n",
    "    card_number = input().strip()\n",
    "    card_matcher = re.search(r\"^[456]\\d{3}(-?)\\d{4}\\1\\d{4}\\1\\d{4}$\", card_number)\n",
    "    if card_matcher:\n",
    "        processed_string = \"\".join(card_matcher.group(0).split(\"-\"))\n",
    "        final_card = re.search(r'(\\d)\\1{3,}',processed_string)\n",
    "        if final_card:\n",
    "            print(\"Invalid\")\n",
    "        else:\n",
    "            print(\"Valid\")\n",
    "    else:\n",
    "        print(\"Invalid\")"
   ]
  },
  {
   "cell_type": "markdown",
   "metadata": {},
   "source": [
    "# Question 16\n",
    "\n",
    "## Validating Postal Codes\n",
    "\n",
    "https://www.hackerrank.com/challenges/validating-postalcode/problem"
   ]
  },
  {
   "cell_type": "code",
   "execution_count": 61,
   "metadata": {},
   "outputs": [
    {
     "name": "stdout",
     "output_type": "stream",
     "text": [
      "110000\n",
      "False\n"
     ]
    }
   ],
   "source": [
    "regex_integer_in_range = r\"^[1-9][\\d]{5}$\"\n",
    "regex_alternating_repetitive_digit_pair = r\"(\\d)(?=\\d\\1)\"\n",
    "\n",
    "\n",
    "import re\n",
    "P = input()\n",
    "\n",
    "print (bool(re.match(regex_integer_in_range, P)) \n",
    "and len(re.findall(regex_alternating_repetitive_digit_pair, P)) < 2)"
   ]
  },
  {
   "cell_type": "markdown",
   "metadata": {},
   "source": [
    "# Question 17\n",
    "\n",
    "## Matrix Script\n",
    "\n",
    "https://www.hackerrank.com/challenges/matrix-script/problem"
   ]
  },
  {
   "cell_type": "code",
   "execution_count": 62,
   "metadata": {},
   "outputs": [
    {
     "name": "stdout",
     "output_type": "stream",
     "text": [
      "7 3\n",
      "Tsi\n",
      "h%x\n",
      "i #\n",
      "sM\n",
      "$a\n",
      "#t%\n",
      "ir!\n",
      "This is Matr\n"
     ]
    }
   ],
   "source": [
    "import math\n",
    "import os\n",
    "import random\n",
    "import re\n",
    "import sys\n",
    "\n",
    "first_multiple_input = input().rstrip().split()\n",
    "\n",
    "n = int(first_multiple_input[0])\n",
    "\n",
    "m = int(first_multiple_input[1])\n",
    "\n",
    "matrix = []\n",
    "\n",
    "for _ in range(n):\n",
    "    matrix_item = input()\n",
    "    matrix.append(matrix_item)\n",
    "    \n",
    "matrix = list(zip(*matrix))\n",
    "sample_string = str()\n",
    "\n",
    "for words in matrix:\n",
    "    for char in words:\n",
    "        sample_string += char\n",
    "        \n",
    "print(re.sub(r\"(?<=\\w)([^\\w\\d]+)(?=\\w)\", \" \", sample_string))"
   ]
  }
 ],
 "metadata": {
  "kernelspec": {
   "display_name": "Python 3",
   "language": "python",
   "name": "python3"
  },
  "language_info": {
   "codemirror_mode": {
    "name": "ipython",
    "version": 3
   },
   "file_extension": ".py",
   "mimetype": "text/x-python",
   "name": "python",
   "nbconvert_exporter": "python",
   "pygments_lexer": "ipython3",
   "version": "3.8.5"
  }
 },
 "nbformat": 4,
 "nbformat_minor": 4
}
