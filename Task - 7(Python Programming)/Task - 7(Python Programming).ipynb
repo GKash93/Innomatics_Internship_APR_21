{
 "cells": [
  {
   "cell_type": "markdown",
   "metadata": {},
   "source": [
    "# Descriptive Statistics. \n",
    "\n",
    "    1. Mean\n",
    "    \n",
    "    2. Median\n",
    "    \n",
    "    3. Mode\n",
    "    \n",
    "    4. Standard Deviation\n",
    "    \n",
    "    5. Variance\n",
    "    \n",
    "    6. Correlation\n",
    "    \n",
    "    7. Normal Distribution (use references)\n",
    "    \n",
    "    8. Feature of Normal Distribution\n",
    "    \n",
    "    9. Positively Skewed & Negatively Skewed Normal Distribution\n",
    "    \n",
    "    10. Effect on Mean, Median and Mode due to Skewness\n",
    "    \n",
    "    11. Explain QQ Plot and show the implementation of the same\n",
    "    \n",
    "    12. Explain Box Cox and show the implementation of the same\n"
   ]
  },
  {
   "cell_type": "markdown",
   "metadata": {},
   "source": [
    "    This notebook will contains like this\n",
    "    \n",
    "    * Topics name\n",
    "    * Breif explaination\n",
    "    * Relevant Formulas in LaTex\n",
    "    * Breif Explaination of this formula\n",
    "    \n",
    "    * After ending all the explaination, we will go ahead and explain everything using a sample dataset."
   ]
  },
  {
   "cell_type": "markdown",
   "metadata": {},
   "source": [
    "#####  <center> Import some libraries </center>"
   ]
  },
  {
   "cell_type": "code",
   "execution_count": 1,
   "metadata": {},
   "outputs": [],
   "source": [
    "import numpy as np\n",
    "import pandas as pd\n",
    "import matplotlib.pyplot as plt\n",
    "%matplotlib inline\n",
    "import seaborn as sns\n",
    "from scipy import stats\n",
    "\n",
    "import warnings\n",
    "warnings.filterwarnings('ignore')"
   ]
  },
  {
   "cell_type": "code",
   "execution_count": 2,
   "metadata": {},
   "outputs": [],
   "source": [
    "#Load and read dataset\n",
    "\n",
    "df = pd.read_csv(r'C:\\Users\\Ganu\\Documents\\NOTEBOOK\\PYTHON\\CRAZY_PLAN\\Innomatics_DS_HYBD_ZeoMinds\\Task - 7(Python programming)\\dataset/data.csv')"
   ]
  },
  {
   "cell_type": "code",
   "execution_count": 3,
   "metadata": {},
   "outputs": [
    {
     "data": {
      "text/html": [
       "<div>\n",
       "<style scoped>\n",
       "    .dataframe tbody tr th:only-of-type {\n",
       "        vertical-align: middle;\n",
       "    }\n",
       "\n",
       "    .dataframe tbody tr th {\n",
       "        vertical-align: top;\n",
       "    }\n",
       "\n",
       "    .dataframe thead th {\n",
       "        text-align: right;\n",
       "    }\n",
       "</style>\n",
       "<table border=\"1\" class=\"dataframe\">\n",
       "  <thead>\n",
       "    <tr style=\"text-align: right;\">\n",
       "      <th></th>\n",
       "      <th>Mthly_HH_Income</th>\n",
       "      <th>Mthly_HH_Expense</th>\n",
       "      <th>No_of_Fly_Members</th>\n",
       "      <th>Emi_or_Rent_Amt</th>\n",
       "      <th>Annual_HH_Income</th>\n",
       "      <th>Highest_Qualified_Member</th>\n",
       "      <th>No_of_Earning_Members</th>\n",
       "    </tr>\n",
       "  </thead>\n",
       "  <tbody>\n",
       "    <tr>\n",
       "      <th>0</th>\n",
       "      <td>5000</td>\n",
       "      <td>8000</td>\n",
       "      <td>3</td>\n",
       "      <td>2000</td>\n",
       "      <td>64200</td>\n",
       "      <td>Under-Graduate</td>\n",
       "      <td>1</td>\n",
       "    </tr>\n",
       "    <tr>\n",
       "      <th>1</th>\n",
       "      <td>6000</td>\n",
       "      <td>7000</td>\n",
       "      <td>2</td>\n",
       "      <td>3000</td>\n",
       "      <td>79920</td>\n",
       "      <td>Illiterate</td>\n",
       "      <td>1</td>\n",
       "    </tr>\n",
       "    <tr>\n",
       "      <th>2</th>\n",
       "      <td>10000</td>\n",
       "      <td>4500</td>\n",
       "      <td>2</td>\n",
       "      <td>0</td>\n",
       "      <td>112800</td>\n",
       "      <td>Under-Graduate</td>\n",
       "      <td>1</td>\n",
       "    </tr>\n",
       "    <tr>\n",
       "      <th>3</th>\n",
       "      <td>10000</td>\n",
       "      <td>2000</td>\n",
       "      <td>1</td>\n",
       "      <td>0</td>\n",
       "      <td>97200</td>\n",
       "      <td>Illiterate</td>\n",
       "      <td>1</td>\n",
       "    </tr>\n",
       "    <tr>\n",
       "      <th>4</th>\n",
       "      <td>12500</td>\n",
       "      <td>12000</td>\n",
       "      <td>2</td>\n",
       "      <td>3000</td>\n",
       "      <td>147000</td>\n",
       "      <td>Graduate</td>\n",
       "      <td>1</td>\n",
       "    </tr>\n",
       "  </tbody>\n",
       "</table>\n",
       "</div>"
      ],
      "text/plain": [
       "   Mthly_HH_Income  Mthly_HH_Expense  No_of_Fly_Members  Emi_or_Rent_Amt  \\\n",
       "0             5000              8000                  3             2000   \n",
       "1             6000              7000                  2             3000   \n",
       "2            10000              4500                  2                0   \n",
       "3            10000              2000                  1                0   \n",
       "4            12500             12000                  2             3000   \n",
       "\n",
       "   Annual_HH_Income Highest_Qualified_Member  No_of_Earning_Members  \n",
       "0             64200           Under-Graduate                      1  \n",
       "1             79920               Illiterate                      1  \n",
       "2            112800           Under-Graduate                      1  \n",
       "3             97200               Illiterate                      1  \n",
       "4            147000                 Graduate                      1  "
      ]
     },
     "execution_count": 3,
     "metadata": {},
     "output_type": "execute_result"
    }
   ],
   "source": [
    "#let's se some top 5 and bottom 5 rows\n",
    "\n",
    "df.head()"
   ]
  },
  {
   "cell_type": "code",
   "execution_count": 4,
   "metadata": {},
   "outputs": [
    {
     "data": {
      "text/html": [
       "<div>\n",
       "<style scoped>\n",
       "    .dataframe tbody tr th:only-of-type {\n",
       "        vertical-align: middle;\n",
       "    }\n",
       "\n",
       "    .dataframe tbody tr th {\n",
       "        vertical-align: top;\n",
       "    }\n",
       "\n",
       "    .dataframe thead th {\n",
       "        text-align: right;\n",
       "    }\n",
       "</style>\n",
       "<table border=\"1\" class=\"dataframe\">\n",
       "  <thead>\n",
       "    <tr style=\"text-align: right;\">\n",
       "      <th></th>\n",
       "      <th>Mthly_HH_Income</th>\n",
       "      <th>Mthly_HH_Expense</th>\n",
       "      <th>No_of_Fly_Members</th>\n",
       "      <th>Emi_or_Rent_Amt</th>\n",
       "      <th>Annual_HH_Income</th>\n",
       "      <th>Highest_Qualified_Member</th>\n",
       "      <th>No_of_Earning_Members</th>\n",
       "    </tr>\n",
       "  </thead>\n",
       "  <tbody>\n",
       "    <tr>\n",
       "      <th>45</th>\n",
       "      <td>90000</td>\n",
       "      <td>48000</td>\n",
       "      <td>7</td>\n",
       "      <td>0</td>\n",
       "      <td>885600</td>\n",
       "      <td>Post-Graduate</td>\n",
       "      <td>3</td>\n",
       "    </tr>\n",
       "    <tr>\n",
       "      <th>46</th>\n",
       "      <td>98000</td>\n",
       "      <td>25000</td>\n",
       "      <td>5</td>\n",
       "      <td>0</td>\n",
       "      <td>1152480</td>\n",
       "      <td>Professional</td>\n",
       "      <td>2</td>\n",
       "    </tr>\n",
       "    <tr>\n",
       "      <th>47</th>\n",
       "      <td>100000</td>\n",
       "      <td>30000</td>\n",
       "      <td>6</td>\n",
       "      <td>0</td>\n",
       "      <td>1404000</td>\n",
       "      <td>Graduate</td>\n",
       "      <td>3</td>\n",
       "    </tr>\n",
       "    <tr>\n",
       "      <th>48</th>\n",
       "      <td>100000</td>\n",
       "      <td>50000</td>\n",
       "      <td>4</td>\n",
       "      <td>20000</td>\n",
       "      <td>1032000</td>\n",
       "      <td>Professional</td>\n",
       "      <td>2</td>\n",
       "    </tr>\n",
       "    <tr>\n",
       "      <th>49</th>\n",
       "      <td>100000</td>\n",
       "      <td>40000</td>\n",
       "      <td>6</td>\n",
       "      <td>10000</td>\n",
       "      <td>1320000</td>\n",
       "      <td>Post-Graduate</td>\n",
       "      <td>1</td>\n",
       "    </tr>\n",
       "  </tbody>\n",
       "</table>\n",
       "</div>"
      ],
      "text/plain": [
       "    Mthly_HH_Income  Mthly_HH_Expense  No_of_Fly_Members  Emi_or_Rent_Amt  \\\n",
       "45            90000             48000                  7                0   \n",
       "46            98000             25000                  5                0   \n",
       "47           100000             30000                  6                0   \n",
       "48           100000             50000                  4            20000   \n",
       "49           100000             40000                  6            10000   \n",
       "\n",
       "    Annual_HH_Income Highest_Qualified_Member  No_of_Earning_Members  \n",
       "45            885600            Post-Graduate                      3  \n",
       "46           1152480             Professional                      2  \n",
       "47           1404000                 Graduate                      3  \n",
       "48           1032000             Professional                      2  \n",
       "49           1320000            Post-Graduate                      1  "
      ]
     },
     "execution_count": 4,
     "metadata": {},
     "output_type": "execute_result"
    }
   ],
   "source": [
    "df.tail()"
   ]
  },
  {
   "cell_type": "code",
   "execution_count": 5,
   "metadata": {},
   "outputs": [
    {
     "data": {
      "text/plain": [
       "(50, 7)"
      ]
     },
     "execution_count": 5,
     "metadata": {},
     "output_type": "execute_result"
    }
   ],
   "source": [
    "# Let's see some shape and information of this df\n",
    "\n",
    "df.shape"
   ]
  },
  {
   "cell_type": "code",
   "execution_count": 6,
   "metadata": {},
   "outputs": [
    {
     "name": "stdout",
     "output_type": "stream",
     "text": [
      "<class 'pandas.core.frame.DataFrame'>\n",
      "RangeIndex: 50 entries, 0 to 49\n",
      "Data columns (total 7 columns):\n",
      " #   Column                    Non-Null Count  Dtype \n",
      "---  ------                    --------------  ----- \n",
      " 0   Mthly_HH_Income           50 non-null     int64 \n",
      " 1   Mthly_HH_Expense          50 non-null     int64 \n",
      " 2   No_of_Fly_Members         50 non-null     int64 \n",
      " 3   Emi_or_Rent_Amt           50 non-null     int64 \n",
      " 4   Annual_HH_Income          50 non-null     int64 \n",
      " 5   Highest_Qualified_Member  50 non-null     object\n",
      " 6   No_of_Earning_Members     50 non-null     int64 \n",
      "dtypes: int64(6), object(1)\n",
      "memory usage: 2.9+ KB\n"
     ]
    }
   ],
   "source": [
    "df.info()"
   ]
  },
  {
   "cell_type": "code",
   "execution_count": 7,
   "metadata": {},
   "outputs": [
    {
     "data": {
      "text/html": [
       "<div>\n",
       "<style scoped>\n",
       "    .dataframe tbody tr th:only-of-type {\n",
       "        vertical-align: middle;\n",
       "    }\n",
       "\n",
       "    .dataframe tbody tr th {\n",
       "        vertical-align: top;\n",
       "    }\n",
       "\n",
       "    .dataframe thead th {\n",
       "        text-align: right;\n",
       "    }\n",
       "</style>\n",
       "<table border=\"1\" class=\"dataframe\">\n",
       "  <thead>\n",
       "    <tr style=\"text-align: right;\">\n",
       "      <th></th>\n",
       "      <th>Mthly_HH_Income</th>\n",
       "      <th>Mthly_HH_Expense</th>\n",
       "      <th>No_of_Fly_Members</th>\n",
       "      <th>Emi_or_Rent_Amt</th>\n",
       "      <th>Annual_HH_Income</th>\n",
       "      <th>No_of_Earning_Members</th>\n",
       "    </tr>\n",
       "  </thead>\n",
       "  <tbody>\n",
       "    <tr>\n",
       "      <th>count</th>\n",
       "      <td>50.000000</td>\n",
       "      <td>50.000000</td>\n",
       "      <td>50.000000</td>\n",
       "      <td>50.000000</td>\n",
       "      <td>5.000000e+01</td>\n",
       "      <td>50.000000</td>\n",
       "    </tr>\n",
       "    <tr>\n",
       "      <th>mean</th>\n",
       "      <td>41558.000000</td>\n",
       "      <td>18818.000000</td>\n",
       "      <td>4.060000</td>\n",
       "      <td>3060.000000</td>\n",
       "      <td>4.900190e+05</td>\n",
       "      <td>1.460000</td>\n",
       "    </tr>\n",
       "    <tr>\n",
       "      <th>std</th>\n",
       "      <td>26097.908979</td>\n",
       "      <td>12090.216824</td>\n",
       "      <td>1.517382</td>\n",
       "      <td>6241.434948</td>\n",
       "      <td>3.201358e+05</td>\n",
       "      <td>0.734291</td>\n",
       "    </tr>\n",
       "    <tr>\n",
       "      <th>min</th>\n",
       "      <td>5000.000000</td>\n",
       "      <td>2000.000000</td>\n",
       "      <td>1.000000</td>\n",
       "      <td>0.000000</td>\n",
       "      <td>6.420000e+04</td>\n",
       "      <td>1.000000</td>\n",
       "    </tr>\n",
       "    <tr>\n",
       "      <th>25%</th>\n",
       "      <td>23550.000000</td>\n",
       "      <td>10000.000000</td>\n",
       "      <td>3.000000</td>\n",
       "      <td>0.000000</td>\n",
       "      <td>2.587500e+05</td>\n",
       "      <td>1.000000</td>\n",
       "    </tr>\n",
       "    <tr>\n",
       "      <th>50%</th>\n",
       "      <td>35000.000000</td>\n",
       "      <td>15500.000000</td>\n",
       "      <td>4.000000</td>\n",
       "      <td>0.000000</td>\n",
       "      <td>4.474200e+05</td>\n",
       "      <td>1.000000</td>\n",
       "    </tr>\n",
       "    <tr>\n",
       "      <th>75%</th>\n",
       "      <td>50375.000000</td>\n",
       "      <td>25000.000000</td>\n",
       "      <td>5.000000</td>\n",
       "      <td>3500.000000</td>\n",
       "      <td>5.947200e+05</td>\n",
       "      <td>2.000000</td>\n",
       "    </tr>\n",
       "    <tr>\n",
       "      <th>max</th>\n",
       "      <td>100000.000000</td>\n",
       "      <td>50000.000000</td>\n",
       "      <td>7.000000</td>\n",
       "      <td>35000.000000</td>\n",
       "      <td>1.404000e+06</td>\n",
       "      <td>4.000000</td>\n",
       "    </tr>\n",
       "  </tbody>\n",
       "</table>\n",
       "</div>"
      ],
      "text/plain": [
       "       Mthly_HH_Income  Mthly_HH_Expense  No_of_Fly_Members  Emi_or_Rent_Amt  \\\n",
       "count        50.000000         50.000000          50.000000        50.000000   \n",
       "mean      41558.000000      18818.000000           4.060000      3060.000000   \n",
       "std       26097.908979      12090.216824           1.517382      6241.434948   \n",
       "min        5000.000000       2000.000000           1.000000         0.000000   \n",
       "25%       23550.000000      10000.000000           3.000000         0.000000   \n",
       "50%       35000.000000      15500.000000           4.000000         0.000000   \n",
       "75%       50375.000000      25000.000000           5.000000      3500.000000   \n",
       "max      100000.000000      50000.000000           7.000000     35000.000000   \n",
       "\n",
       "       Annual_HH_Income  No_of_Earning_Members  \n",
       "count      5.000000e+01              50.000000  \n",
       "mean       4.900190e+05               1.460000  \n",
       "std        3.201358e+05               0.734291  \n",
       "min        6.420000e+04               1.000000  \n",
       "25%        2.587500e+05               1.000000  \n",
       "50%        4.474200e+05               1.000000  \n",
       "75%        5.947200e+05               2.000000  \n",
       "max        1.404000e+06               4.000000  "
      ]
     },
     "execution_count": 7,
     "metadata": {},
     "output_type": "execute_result"
    }
   ],
   "source": [
    "# let's see the basics stats of the df using describe\n",
    "\n",
    "df.describe()"
   ]
  },
  {
   "cell_type": "code",
   "execution_count": null,
   "metadata": {},
   "outputs": [],
   "source": []
  },
  {
   "cell_type": "code",
   "execution_count": null,
   "metadata": {},
   "outputs": [],
   "source": []
  },
  {
   "cell_type": "code",
   "execution_count": null,
   "metadata": {},
   "outputs": [],
   "source": []
  },
  {
   "cell_type": "code",
   "execution_count": null,
   "metadata": {},
   "outputs": [],
   "source": []
  },
  {
   "cell_type": "markdown",
   "metadata": {},
   "source": [
    "### <center> Mean  </center>\n",
    "    \n",
    "* Mean is the one of the Measure of central tendency it can be calculated by adding the sum of all data points to the given number of data points\n",
    "\n",
    "* Mean is the most common measure of central tendency but it has a huge downside because it is easily effected by outliers where value is significantly greater than other values in the data set\n",
    "    \n",
    "$$\\mu =\\frac {1}{n} \\sum \\limits _{i=1}^{n} X_{i}$$\n",
    "\n",
    "where,\n",
    "\n",
    "$\\mu$ is the representation of the Mean\n",
    "\n",
    "$\\sum \\limits _{i=1}^{n}$ is the representation of summation \n",
    "\n",
    "$ \\sum \\limits _{i=1}^{n} X_{i} $ is summation of datapoints between i = 1 to n\n",
    "\n",
    "$ \\frac {1}{n}$ is the representation of the count of the data points(counts = number of available data points used)\n",
    "\n",
    "\n"
   ]
  },
  {
   "cell_type": "code",
   "execution_count": 8,
   "metadata": {},
   "outputs": [
    {
     "name": "stdout",
     "output_type": "stream",
     "text": [
      "Mean of the Monthly House Hold Expense is : 18818.0\n"
     ]
    }
   ],
   "source": [
    "# Mean w/o inbuilt function\n",
    "\n",
    "base_1 = df['Mthly_HH_Expense']\n",
    "\n",
    "mean_Mnthly_HH_Expense = sum(base_1) / len(base_1)\n",
    "\n",
    "print(\"Mean of the Monthly House Hold Expense is :\",mean_Mnthly_HH_Expense)"
   ]
  },
  {
   "cell_type": "code",
   "execution_count": 9,
   "metadata": {},
   "outputs": [
    {
     "data": {
      "text/plain": [
       "18818.0"
      ]
     },
     "execution_count": 9,
     "metadata": {},
     "output_type": "execute_result"
    }
   ],
   "source": [
    "# Mean w/ inbuilt function\n",
    "\n",
    "df['Mthly_HH_Expense'].mean()"
   ]
  },
  {
   "cell_type": "markdown",
   "metadata": {},
   "source": [
    "    "
   ]
  },
  {
   "cell_type": "markdown",
   "metadata": {},
   "source": [
    "### <center> Median  </center>\n",
    "\n",
    "* Median is the middle value of a sorted data set; found by ordering all data points and picking out the one in the middle (or if there are two middle numbers, taking the mean of those two numbers).\n",
    "\n",
    "* The median is sometimes used as opposed to the mean when there are outliers in the sequence that might skew the average of the values. The median of a sequence can be less affected by outliers than the mean.\n",
    "\n",
    "$$ Median \\ {X} = \\begin{cases} \\frac {N+1}{2} & \\text {if} \\ Even \\ Series \\\\ \\\\ \\frac {N}{2} + \\frac {N+1}{2} & \\text {if} \\ Odd \\ Series \\end{cases} $$\n",
    "\n",
    "where,\n",
    "\n",
    "${N}$ is the number of the values in the dataset"
   ]
  },
  {
   "cell_type": "code",
   "execution_count": 10,
   "metadata": {},
   "outputs": [
    {
     "name": "stdout",
     "output_type": "stream",
     "text": [
      "Median is: 3\n"
     ]
    }
   ],
   "source": [
    "# Median w/o inbuilt function\n",
    "\n",
    "sample_list = [1, 2, 3, 4, 5]\n",
    "n = len(sample_list)\n",
    "sample_list.sort()\n",
    "  \n",
    "if n % 2 == 0:\n",
    "    median1 = sample_list[n//2]\n",
    "    median2 = sample_list[n//2 - 1]\n",
    "    median = (median1 + median2)/2\n",
    "else:\n",
    "    median = sample_list[n//2]\n",
    "print(\"Median is: \" + str(median))\n"
   ]
  },
  {
   "cell_type": "code",
   "execution_count": 11,
   "metadata": {},
   "outputs": [
    {
     "data": {
      "text/plain": [
       "Mthly_HH_Income           35000.0\n",
       "Mthly_HH_Expense          15500.0\n",
       "No_of_Fly_Members             4.0\n",
       "Emi_or_Rent_Amt               0.0\n",
       "Annual_HH_Income         447420.0\n",
       "No_of_Earning_Members         1.0\n",
       "dtype: float64"
      ]
     },
     "execution_count": 11,
     "metadata": {},
     "output_type": "execute_result"
    }
   ],
   "source": [
    "# Median w/ inbuilt function\n",
    "df.median()"
   ]
  },
  {
   "cell_type": "markdown",
   "metadata": {},
   "source": [
    "    "
   ]
  },
  {
   "cell_type": "markdown",
   "metadata": {},
   "source": [
    "### <center> Mode  </center>\n",
    "\n",
    "* The mode is the number that occurs most often within a set of numbers in the data, A set of data may have one mode, more than one mode, or no mode at all.\n",
    "\n",
    "![](images/mode_1.png)\n",
    "\n",
    "![](images/mode_2.jpg)"
   ]
  },
  {
   "cell_type": "code",
   "execution_count": 12,
   "metadata": {},
   "outputs": [
    {
     "name": "stdout",
     "output_type": "stream",
     "text": [
      "the mode from n_num is : 5\n"
     ]
    }
   ],
   "source": [
    "# Mode w/o inbuilt function\n",
    "\n",
    "from collections import Counter\n",
    "  \n",
    "# list of elements to calculate mode\n",
    "samples = [1, 2, 3, 4, 5, 5]\n",
    "n = len(samples)\n",
    "  \n",
    "data = Counter(samples)\n",
    "get_mode = dict(data)\n",
    "mode = [k for k, v in get_mode.items() if v == max(list(data.values()))]\n",
    "  \n",
    "if len(mode) == n:\n",
    "    get_mode = \"No mode found\"\n",
    "else:\n",
    "    get_mode = \"the mode from n_num is : \" + ', '.join(map(str, mode))\n",
    "      \n",
    "print(get_mode)"
   ]
  },
  {
   "cell_type": "code",
   "execution_count": 13,
   "metadata": {},
   "outputs": [
    {
     "data": {
      "text/html": [
       "<div>\n",
       "<style scoped>\n",
       "    .dataframe tbody tr th:only-of-type {\n",
       "        vertical-align: middle;\n",
       "    }\n",
       "\n",
       "    .dataframe tbody tr th {\n",
       "        vertical-align: top;\n",
       "    }\n",
       "\n",
       "    .dataframe thead th {\n",
       "        text-align: right;\n",
       "    }\n",
       "</style>\n",
       "<table border=\"1\" class=\"dataframe\">\n",
       "  <thead>\n",
       "    <tr style=\"text-align: right;\">\n",
       "      <th></th>\n",
       "      <th>Mthly_HH_Income</th>\n",
       "      <th>Mthly_HH_Expense</th>\n",
       "      <th>No_of_Fly_Members</th>\n",
       "      <th>Emi_or_Rent_Amt</th>\n",
       "      <th>Annual_HH_Income</th>\n",
       "      <th>Highest_Qualified_Member</th>\n",
       "      <th>No_of_Earning_Members</th>\n",
       "    </tr>\n",
       "  </thead>\n",
       "  <tbody>\n",
       "    <tr>\n",
       "      <th>0</th>\n",
       "      <td>45000</td>\n",
       "      <td>25000</td>\n",
       "      <td>4</td>\n",
       "      <td>0</td>\n",
       "      <td>590400</td>\n",
       "      <td>Graduate</td>\n",
       "      <td>1</td>\n",
       "    </tr>\n",
       "  </tbody>\n",
       "</table>\n",
       "</div>"
      ],
      "text/plain": [
       "   Mthly_HH_Income  Mthly_HH_Expense  No_of_Fly_Members  Emi_or_Rent_Amt  \\\n",
       "0            45000             25000                  4                0   \n",
       "\n",
       "   Annual_HH_Income Highest_Qualified_Member  No_of_Earning_Members  \n",
       "0            590400                 Graduate                      1  "
      ]
     },
     "execution_count": 13,
     "metadata": {},
     "output_type": "execute_result"
    }
   ],
   "source": [
    "# Mode w/ inbuilt function\n",
    "df.mode()"
   ]
  },
  {
   "cell_type": "markdown",
   "metadata": {},
   "source": [
    "    "
   ]
  },
  {
   "cell_type": "markdown",
   "metadata": {},
   "source": [
    "### <center> Variance </center> \n",
    "\n",
    "* The term Variance refers to a statistical measurement of the spread between numbers in a data set. More specifically, variance measures how far each number in the set is from the mean and thus from every other number in the set. Variance is often depicted by this symbol: $ \\sigma ^ 2 $\n",
    "\n",
    "* In statistics, variance measures variability from the average or mean. It is calculated by taking the differences between each number in the data set and the mean, then squaring the differences to make them positive, and finally dividing the sum of the squares by the number of values in the data set.\n",
    "\n",
    "$$  \\sigma ^ 2  = \\frac{ \\sum \\limits _{i=1}^{n} \\left( {X_{i} - \\mu} \\right) ^ 2} {N}   $$\n",
    "\n",
    "\n",
    "where,\n",
    "\n",
    "* $ \\sigma ^ 2 $ is the population variance\n",
    "* $X_{i} $ is the value of the ith element\n",
    "* $\\mu $ is the population mean\n",
    "* $N$ is the population sizee"
   ]
  },
  {
   "cell_type": "code",
   "execution_count": 14,
   "metadata": {},
   "outputs": [
    {
     "data": {
      "text/plain": [
       "5.76"
      ]
     },
     "execution_count": 14,
     "metadata": {},
     "output_type": "execute_result"
    }
   ],
   "source": [
    "# Variance w/o inbuilt function\n",
    "\n",
    "def variance(data):\n",
    "    # no of observations\n",
    "    n = len(data)\n",
    "    mean = sum(data)/n\n",
    "    deviations = [(x - mean) ** 2 for x in data]\n",
    "    variance = sum(deviations)/n\n",
    "    return variance\n",
    "\n",
    "variance([4, 8, 6, 5, 3, 2, 8, 9, 2, 5])"
   ]
  },
  {
   "cell_type": "code",
   "execution_count": 15,
   "metadata": {},
   "outputs": [
    {
     "data": {
      "text/plain": [
       "Mthly_HH_Income          6.811009e+08\n",
       "Mthly_HH_Expense         1.461733e+08\n",
       "No_of_Fly_Members        2.302449e+00\n",
       "Emi_or_Rent_Amt          3.895551e+07\n",
       "Annual_HH_Income         1.024869e+11\n",
       "No_of_Earning_Members    5.391837e-01\n",
       "dtype: float64"
      ]
     },
     "execution_count": 15,
     "metadata": {},
     "output_type": "execute_result"
    }
   ],
   "source": [
    "# Variance w/ inbuilt function\n",
    "\n",
    "df.var()"
   ]
  },
  {
   "cell_type": "markdown",
   "metadata": {},
   "source": [
    "    "
   ]
  },
  {
   "cell_type": "markdown",
   "metadata": {},
   "source": [
    "### <center> Standard Deviation </center> \n",
    "\n",
    "* A standard deviation is a statistic that measures the dispersion of a dataset relative to its mean. The standard deviation is calculated as the square root of variance by determining each data point's deviation relative to the mean.\n",
    "\n",
    "* If the data points are further from the mean, there is a higher deviation within the data set; thus, the more spread out the data, the higher the standard deviation.\n",
    "\n",
    "* Standard deviation is the square root of variance $ \\sqrt {\\sigma ^ 2} $ and is denoted as $\\sigma$. So, if we want to calculate the standard deviation, then all we just have to do is to take the square root of the variance as follows:\n",
    "\n",
    "$$ \\sigma = \\sqrt {\\sigma ^ 2} $$\n",
    "\n",
    "or \n",
    "\n",
    "$$ \\sigma = \\sqrt {\\frac{ \\sum \\limits _{i=1}^{n} \\left( {X_{i} - \\mu} \\right) ^ 2} {N}} $$\n",
    "\n",
    "\n",
    "where,\n",
    "\n",
    "* $ \\sigma $ is the standard deviation\n",
    "* $ \\sigma ^ 2 $ is the population variance\n",
    "* $X_{i} $ is the value of the ith element\n",
    "* $\\mu $ is the population mean\n",
    "* $N$ is the population sizee"
   ]
  },
  {
   "cell_type": "code",
   "execution_count": 16,
   "metadata": {},
   "outputs": [
    {
     "data": {
      "text/plain": [
       "2.4"
      ]
     },
     "execution_count": 16,
     "metadata": {},
     "output_type": "execute_result"
    }
   ],
   "source": [
    "# Standard Deviation w/o inbuilt function\n",
    "\n",
    "import math\n",
    "\n",
    "# We relay on our previous implementation for the variance\n",
    "\n",
    "def variance(data, ddof=0):\n",
    "    n = len(data)\n",
    "    mean = sum(data) / n\n",
    "    return sum((x - mean) ** 2 for x in data) / (n - ddof)\n",
    "    \n",
    "def stdev(data):\n",
    "    var = variance(data)\n",
    "    std_dev = math.sqrt(var)\n",
    "    return std_dev\n",
    "\n",
    "stdev([4, 8, 6, 5, 3, 2, 8, 9, 2, 5])"
   ]
  },
  {
   "cell_type": "code",
   "execution_count": 17,
   "metadata": {},
   "outputs": [
    {
     "data": {
      "text/plain": [
       "Mthly_HH_Income           26097.908979\n",
       "Mthly_HH_Expense          12090.216824\n",
       "No_of_Fly_Members             1.517382\n",
       "Emi_or_Rent_Amt            6241.434948\n",
       "Annual_HH_Income         320135.792123\n",
       "No_of_Earning_Members         0.734291\n",
       "dtype: float64"
      ]
     },
     "execution_count": 17,
     "metadata": {},
     "output_type": "execute_result"
    }
   ],
   "source": [
    "# Standard Deviation w/ inbuilt function\n",
    "\n",
    "df.std()"
   ]
  },
  {
   "cell_type": "markdown",
   "metadata": {},
   "source": [
    "    "
   ]
  },
  {
   "cell_type": "markdown",
   "metadata": {},
   "source": [
    "### <center> Correlation </center>\n",
    "\n",
    "* Correlation shows the strength of a relationship between two variables and is expressed numerically by the correlation coefficient. The correlation coefficient's values range between -1.0 and 1.0.\n",
    "* A perfect positive correlation means that the correlation coefficient is exactly 1. A perfect negative correlation means that two assets move in opposite directions, while a zero correlation implies no linear relationship at all.\n",
    "\n",
    "$$ {r} =   \\frac{\\sum\\left(x_{i}-\\bar{x}\\right)\\left(y_{i}-\\bar{y}\\right)}{\\sqrt{\\sum\\left(x_{i}-\\bar{x}\\right)^{2} \\sum\\left(y_{i}-\\bar{y}\\right)^{2}}}  $$\n",
    "\n",
    "where\n",
    "\n",
    "* ${s}$ is the correlation coefficient\n",
    "* $x_{i}$ is the x-variable in a sample\n",
    "* $\\bar{x}$ is the mean of the values of the x-variables\n",
    "* $y_{i}$ is the y-variable in a sample\n",
    "* $\\bar{y}$ is the mean of the values of the y-variables"
   ]
  },
  {
   "cell_type": "code",
   "execution_count": 18,
   "metadata": {},
   "outputs": [],
   "source": [
    "# Correlation eoefficient w/o inbuilt function\n",
    "\n",
    "import math\n",
    "\n",
    "def CorrCoeff(X, Y, n):\n",
    "    sum_X = 0\n",
    "    sum_Y = 0\n",
    "    sum_XY = 0\n",
    "    sqrsum_X = 0\n",
    "    sqrsum_X = 0\n",
    "    \n",
    "    i = 0\n",
    "    sum_X = sum_X + X[i]\n",
    "    sum_Y = sum_Y + Y[i]\n",
    "    sum_XY = sum_XY + X[i] * Y[i]\n",
    "    \n",
    "    sqrsum_X = sqrsum_X + X[i] * X[i]\n",
    "    sqrsum_X = sqrsum_X + Y[i] * Y[i]\n",
    "    \n",
    "    corr = (float)(n * sum_XY - sum_X * sum_Y) / (float)(math.sqrt((n * sqrsum_X - sum_X * sum_X)* (n * sqrsum_X - sum_Y * sum_Y)))\n",
    "    return corr"
   ]
  },
  {
   "cell_type": "code",
   "execution_count": 19,
   "metadata": {},
   "outputs": [
    {
     "name": "stdout",
     "output_type": "stream",
     "text": [
      "0.3927\n"
     ]
    }
   ],
   "source": [
    "X = [15, 18, 21, 24, 27]\n",
    "Y = [25, 25, 27, 31, 32]\n",
    "n = len(X)\n",
    "print ('{0:.4f}'.format(CorrCoeff(X, Y, n)))"
   ]
  },
  {
   "cell_type": "code",
   "execution_count": 20,
   "metadata": {},
   "outputs": [
    {
     "data": {
      "text/html": [
       "<div>\n",
       "<style scoped>\n",
       "    .dataframe tbody tr th:only-of-type {\n",
       "        vertical-align: middle;\n",
       "    }\n",
       "\n",
       "    .dataframe tbody tr th {\n",
       "        vertical-align: top;\n",
       "    }\n",
       "\n",
       "    .dataframe thead th {\n",
       "        text-align: right;\n",
       "    }\n",
       "</style>\n",
       "<table border=\"1\" class=\"dataframe\">\n",
       "  <thead>\n",
       "    <tr style=\"text-align: right;\">\n",
       "      <th></th>\n",
       "      <th>Mthly_HH_Income</th>\n",
       "      <th>Mthly_HH_Expense</th>\n",
       "      <th>No_of_Fly_Members</th>\n",
       "      <th>Emi_or_Rent_Amt</th>\n",
       "      <th>Annual_HH_Income</th>\n",
       "      <th>No_of_Earning_Members</th>\n",
       "    </tr>\n",
       "  </thead>\n",
       "  <tbody>\n",
       "    <tr>\n",
       "      <th>Mthly_HH_Income</th>\n",
       "      <td>1.000000</td>\n",
       "      <td>0.649215</td>\n",
       "      <td>0.448317</td>\n",
       "      <td>0.036976</td>\n",
       "      <td>0.970315</td>\n",
       "      <td>0.347883</td>\n",
       "    </tr>\n",
       "    <tr>\n",
       "      <th>Mthly_HH_Expense</th>\n",
       "      <td>0.649215</td>\n",
       "      <td>1.000000</td>\n",
       "      <td>0.639702</td>\n",
       "      <td>0.405280</td>\n",
       "      <td>0.591222</td>\n",
       "      <td>0.311915</td>\n",
       "    </tr>\n",
       "    <tr>\n",
       "      <th>No_of_Fly_Members</th>\n",
       "      <td>0.448317</td>\n",
       "      <td>0.639702</td>\n",
       "      <td>1.000000</td>\n",
       "      <td>0.085808</td>\n",
       "      <td>0.430868</td>\n",
       "      <td>0.597482</td>\n",
       "    </tr>\n",
       "    <tr>\n",
       "      <th>Emi_or_Rent_Amt</th>\n",
       "      <td>0.036976</td>\n",
       "      <td>0.405280</td>\n",
       "      <td>0.085808</td>\n",
       "      <td>1.000000</td>\n",
       "      <td>0.002716</td>\n",
       "      <td>-0.097431</td>\n",
       "    </tr>\n",
       "    <tr>\n",
       "      <th>Annual_HH_Income</th>\n",
       "      <td>0.970315</td>\n",
       "      <td>0.591222</td>\n",
       "      <td>0.430868</td>\n",
       "      <td>0.002716</td>\n",
       "      <td>1.000000</td>\n",
       "      <td>0.296679</td>\n",
       "    </tr>\n",
       "    <tr>\n",
       "      <th>No_of_Earning_Members</th>\n",
       "      <td>0.347883</td>\n",
       "      <td>0.311915</td>\n",
       "      <td>0.597482</td>\n",
       "      <td>-0.097431</td>\n",
       "      <td>0.296679</td>\n",
       "      <td>1.000000</td>\n",
       "    </tr>\n",
       "  </tbody>\n",
       "</table>\n",
       "</div>"
      ],
      "text/plain": [
       "                       Mthly_HH_Income  Mthly_HH_Expense  No_of_Fly_Members  \\\n",
       "Mthly_HH_Income               1.000000          0.649215           0.448317   \n",
       "Mthly_HH_Expense              0.649215          1.000000           0.639702   \n",
       "No_of_Fly_Members             0.448317          0.639702           1.000000   \n",
       "Emi_or_Rent_Amt               0.036976          0.405280           0.085808   \n",
       "Annual_HH_Income              0.970315          0.591222           0.430868   \n",
       "No_of_Earning_Members         0.347883          0.311915           0.597482   \n",
       "\n",
       "                       Emi_or_Rent_Amt  Annual_HH_Income  \\\n",
       "Mthly_HH_Income               0.036976          0.970315   \n",
       "Mthly_HH_Expense              0.405280          0.591222   \n",
       "No_of_Fly_Members             0.085808          0.430868   \n",
       "Emi_or_Rent_Amt               1.000000          0.002716   \n",
       "Annual_HH_Income              0.002716          1.000000   \n",
       "No_of_Earning_Members        -0.097431          0.296679   \n",
       "\n",
       "                       No_of_Earning_Members  \n",
       "Mthly_HH_Income                     0.347883  \n",
       "Mthly_HH_Expense                    0.311915  \n",
       "No_of_Fly_Members                   0.597482  \n",
       "Emi_or_Rent_Amt                    -0.097431  \n",
       "Annual_HH_Income                    0.296679  \n",
       "No_of_Earning_Members               1.000000  "
      ]
     },
     "execution_count": 20,
     "metadata": {},
     "output_type": "execute_result"
    }
   ],
   "source": [
    "# Correlation eoefficient w/ inbuilt function\n",
    "df.corr()"
   ]
  },
  {
   "cell_type": "code",
   "execution_count": 21,
   "metadata": {},
   "outputs": [
    {
     "data": {
      "image/png": "[encoded data removed]",
      "text/plain": [
       "<Figure size 720x576 with 2 Axes>"
      ]
     },
     "metadata": {
      "needs_background": "light"
     },
     "output_type": "display_data"
    }
   ],
   "source": [
    "# We can use heatmap from seaborn with the values inplace\n",
    "\n",
    "plt.figure(figsize = (10,8))\n",
    "sns.heatmap(df.corr(), annot = True)\n",
    "plt.show()"
   ]
  },
  {
   "cell_type": "markdown",
   "metadata": {},
   "source": [
    "    "
   ]
  },
  {
   "cell_type": "markdown",
   "metadata": {},
   "source": [
    "### <center> Normal Distribution </center>\n",
    "\n",
    "<p>\n",
    "\n",
    "        * The normal distribution is a continuous probability distribution that is symmetrical on both sides of the mean, so the right side of the center is a mirror image of the left side.\n",
    "\n",
    "        * The area under the normal distribution curve represents probability and the total area under the curve sums to one.\n",
    "\n",
    "        * Most of the continuous data values in a normal distribution tend to cluster around the mean, and the further a value is from the mean, the less likely it is to occur.\n",
    "\n",
    "        * For a perfectly normal distribution the mean, median and mode will be the same value, visually represented by the peak of the curve.\n",
    "\n",
    "        * The goal of anyone using Normal distribution is to get near or near perfect normal distribution.\n",
    "</p>"
   ]
  },
  {
   "cell_type": "markdown",
   "metadata": {},
   "source": [
    "##### <center> Bell's Curve </center>\n",
    "\n",
    "![](images/normal_distribution_1.png)\n",
    "\n",
    "\n",
    "* Observe the continious distribution of the data point in the shape of the Bell. It's smooth and curvy. \n",
    "    \n",
    "* did you observe like $ {1} \\sigma$ or ${-1} \\sigma $ or like this $ {2} \\sigma$ or $ {-2} \\sigma $ or like this $ {3} \\sigma$ or $ {-3} \\sigma $ and you think, what are they? Well simply put, they are standard deviation of the mean is empherical rule. You think, this person has lost it finally. \n",
    "\n",
    "* In Statistics, the empherical rule or informally known as (68%)-(95%)-(99.7%) Now, see below images, \n",
    "![](images/emp_1.png)\n",
    "\n",
    "    * In other words, \n",
    "    \n",
    "        * Approximately 68% of the data occurs within 1 SD of the mean\n",
    "        * Approximately 95% occurs within 2 SD’s of the mean\n",
    "        * Approximately 99.7% of the data occurs within 3 SDs of the mean"
   ]
  },
  {
   "cell_type": "markdown",
   "metadata": {},
   "source": [
    "### <center> Features of the Normal Distribution </center>\n",
    "\n",
    "<b>    1. It is Symmentric </b>\n",
    "<p>\n",
    "A normal distribution comes with a perfectly symmentrical shape. This means that the distribution curve can be divided in the middle to produce two equal halves.\n",
    "</p>\n",
    "    </br>\n",
    "\n",
    "<b>    2. The Mean, Median, and Mode are equal </b>\n",
    "<p>\n",
    "The middle point of a normal distribution is the point with the maximum frequency, which means that it possesses the most observations of the variable. The measures are usually equal in a perfectly (normal) distribution.\n",
    "</p>\n",
    "    </br>\n",
    "\n",
    "\n",
    "<b>    3. Empirical rule </b>\n",
    "<p>\n",
    "In normally distributed data, there is a constant proportion of distance lying under the curve between the mean and specific number of standard deviations from the mean. For example, 68.25% of all cases fall within +/- one standard deviation from the mean. 95% of all cases fall within +/- two standard deviations from the mean, while 99% of all cases fall within +/- three standard deviations from the mean.\n",
    "</p>\n",
    "    </br> \n",
    "\n",
    "\n",
    "<b>    4. Skewness and kurtosis </b>\n",
    "<p>\n",
    "            Skewness and kurtosis are coefficients that measure how different a distribution is from a normal distribution. Skewness measures the symmetry of a normal distribution while kurtosis measures the thickness of the tail ends relative to the tails of a normal distribution.\n",
    "</p>"
   ]
  },
  {
   "cell_type": "markdown",
   "metadata": {},
   "source": [
    "    "
   ]
  },
  {
   "cell_type": "markdown",
   "metadata": {},
   "source": [
    "### <center> Positively Skewed & Negatively Skewed Normal Distribution </center>"
   ]
  },
  {
   "cell_type": "markdown",
   "metadata": {},
   "source": [
    "A <b>Positive-skewed distribution</b> has a long right tail. Positive-skewed distributions are also called Right-skew distributions. That’s because there is a long tail in the positive direction on the number line. The mean is also to the right of the peak.    \n",
    "The value of skewness for a positively skewed distribution is greater than zero. As you might have already understood by looking at the figure, the value of mean is the greatest one followed by median and then by mode.\n",
    "\n",
    "</br>\n",
    "</br>\n",
    "\n",
    "A left-skewed distribution has a long left tail. Left-skewed distributions are also called negatively-skewed distributions. That’s because there is a long tail in the negative direction on the number line. The mean is also to the left of the peak.\n",
    "A <b> Negatively skewed distribution</b> refers to the distribution type where the more values are plotted on the right side of the graph, where the tail of the distribution is longer on the left side and the mean is lower than the median and mode which it might be zero or negative due to the nature of the data as negatively distributed.\n",
    "\n",
    "\n",
    "![](images/skew_1.jpg)"
   ]
  },
  {
   "cell_type": "markdown",
   "metadata": {},
   "source": [
    "# Let's plot and understand Normal Distribution and understand the formula\n",
    "\n",
    "Normal Distribution is represented by $ {Z} $\n",
    "\n",
    "$$  {Z} = \\frac {\\left ( {X} - \\mu \\right ) } {\\sigma}  $$\n",
    "\n",
    "where, \n",
    "\n",
    "* ${Z}$ is the Normal Distribution\n",
    "* ${X}$ is the value of original distribution\n",
    "* $\\mu $ is the mean of the original distribution\n",
    "* $\\sigma $ is the standard deviation of the original distribution"
   ]
  },
  {
   "cell_type": "code",
   "execution_count": 22,
   "metadata": {},
   "outputs": [
    {
     "data": {
      "text/plain": [
       "<AxesSubplot:ylabel='Density'>"
      ]
     },
     "execution_count": 22,
     "metadata": {},
     "output_type": "execute_result"
    },
    {
     "data": {
      "image/png": "[encoded data removed]",
      "text/plain": [
       "<Figure size 432x288 with 1 Axes>"
      ]
     },
     "metadata": {
      "needs_background": "light"
     },
     "output_type": "display_data"
    }
   ],
   "source": [
    "# Let's plot the empherical rule using numpy random variables\n",
    "\n",
    "norm_dist= np.random.normal(loc = 20, scale = 5, size=10000)\n",
    "\n",
    "sns.distplot(norm_dist)"
   ]
  },
  {
   "cell_type": "code",
   "execution_count": 23,
   "metadata": {},
   "outputs": [
    {
     "name": "stdout",
     "output_type": "stream",
     "text": [
      "19.947279464146646 4.985083169591622\n"
     ]
    }
   ],
   "source": [
    "mu_normal = norm_dist.mean()\n",
    "\n",
    "sigma_normal = norm_dist.std()\n",
    "\n",
    "print(mu_normal, sigma_normal)"
   ]
  },
  {
   "cell_type": "code",
   "execution_count": 24,
   "metadata": {},
   "outputs": [],
   "source": [
    "one_std_right = mu_normal + (1 * sigma_normal)\n",
    "\n",
    "one_std_left = mu_normal - (1 * sigma_normal)\n",
    "\n",
    "two_std_right = mu_normal + (2 * sigma_normal)\n",
    "\n",
    "two_std_left = mu_normal - (2 * sigma_normal)\n",
    "\n",
    "three_std_right = mu_normal + (3 * sigma_normal)\n",
    "\n",
    "three_std_left = mu_normal - (3 * sigma_normal)\n"
   ]
  },
  {
   "cell_type": "code",
   "execution_count": 25,
   "metadata": {},
   "outputs": [
    {
     "data": {
      "text/plain": [
       "<matplotlib.legend.Legend at 0x26e07eec190>"
      ]
     },
     "execution_count": 25,
     "metadata": {},
     "output_type": "execute_result"
    },
    {
     "data": {
      "image/png": "[encoded data removed]",
      "text/plain": [
       "<Figure size 1440x1440 with 1 Axes>"
      ]
     },
     "metadata": {
      "needs_background": "light"
     },
     "output_type": "display_data"
    }
   ],
   "source": [
    "plt.figure(figsize=(20,20))\n",
    "sns.set_style(\"darkgrid\")\n",
    "sns.distplot(norm_dist)\n",
    "\n",
    "plt.axvline(mu_normal, color='coral', label='Mean')\n",
    "\n",
    "plt.axvline(one_std_right, color='yellow', label='Mean + 1SD')\n",
    "plt.axvline(one_std_left, color='yellow', label='Mean - 1SD')\n",
    "plt.axvline(two_std_right, color='green', label='Mean + 2SD')\n",
    "plt.axvline(two_std_left, color='green', label='Mean - 2SD')\n",
    "plt.axvline(three_std_right, color='blue', label='Mean + 3SD')\n",
    "plt.axvline(three_std_left, color='blue', label='Mean - 3SD')\n",
    "plt.legend()"
   ]
  },
  {
   "cell_type": "markdown",
   "metadata": {},
   "source": [
    "    "
   ]
  },
  {
   "cell_type": "markdown",
   "metadata": {},
   "source": [
    "##### Let's jump into the world of the Normal Distribution on our original dataframe."
   ]
  },
  {
   "cell_type": "code",
   "execution_count": 26,
   "metadata": {},
   "outputs": [],
   "source": [
    "df_lite = df[['Mthly_HH_Income','Mthly_HH_Expense','No_of_Fly_Members','Emi_or_Rent_Amt','Annual_HH_Income']]"
   ]
  },
  {
   "cell_type": "code",
   "execution_count": 27,
   "metadata": {},
   "outputs": [
    {
     "data": {
      "text/html": [
       "<div>\n",
       "<style scoped>\n",
       "    .dataframe tbody tr th:only-of-type {\n",
       "        vertical-align: middle;\n",
       "    }\n",
       "\n",
       "    .dataframe tbody tr th {\n",
       "        vertical-align: top;\n",
       "    }\n",
       "\n",
       "    .dataframe thead th {\n",
       "        text-align: right;\n",
       "    }\n",
       "</style>\n",
       "<table border=\"1\" class=\"dataframe\">\n",
       "  <thead>\n",
       "    <tr style=\"text-align: right;\">\n",
       "      <th></th>\n",
       "      <th>Mthly_HH_Income</th>\n",
       "      <th>Mthly_HH_Expense</th>\n",
       "      <th>No_of_Fly_Members</th>\n",
       "      <th>Emi_or_Rent_Amt</th>\n",
       "      <th>Annual_HH_Income</th>\n",
       "    </tr>\n",
       "  </thead>\n",
       "  <tbody>\n",
       "    <tr>\n",
       "      <th>0</th>\n",
       "      <td>5000</td>\n",
       "      <td>8000</td>\n",
       "      <td>3</td>\n",
       "      <td>2000</td>\n",
       "      <td>64200</td>\n",
       "    </tr>\n",
       "    <tr>\n",
       "      <th>1</th>\n",
       "      <td>6000</td>\n",
       "      <td>7000</td>\n",
       "      <td>2</td>\n",
       "      <td>3000</td>\n",
       "      <td>79920</td>\n",
       "    </tr>\n",
       "    <tr>\n",
       "      <th>2</th>\n",
       "      <td>10000</td>\n",
       "      <td>4500</td>\n",
       "      <td>2</td>\n",
       "      <td>0</td>\n",
       "      <td>112800</td>\n",
       "    </tr>\n",
       "    <tr>\n",
       "      <th>3</th>\n",
       "      <td>10000</td>\n",
       "      <td>2000</td>\n",
       "      <td>1</td>\n",
       "      <td>0</td>\n",
       "      <td>97200</td>\n",
       "    </tr>\n",
       "    <tr>\n",
       "      <th>4</th>\n",
       "      <td>12500</td>\n",
       "      <td>12000</td>\n",
       "      <td>2</td>\n",
       "      <td>3000</td>\n",
       "      <td>147000</td>\n",
       "    </tr>\n",
       "  </tbody>\n",
       "</table>\n",
       "</div>"
      ],
      "text/plain": [
       "   Mthly_HH_Income  Mthly_HH_Expense  No_of_Fly_Members  Emi_or_Rent_Amt  \\\n",
       "0             5000              8000                  3             2000   \n",
       "1             6000              7000                  2             3000   \n",
       "2            10000              4500                  2                0   \n",
       "3            10000              2000                  1                0   \n",
       "4            12500             12000                  2             3000   \n",
       "\n",
       "   Annual_HH_Income  \n",
       "0             64200  \n",
       "1             79920  \n",
       "2            112800  \n",
       "3             97200  \n",
       "4            147000  "
      ]
     },
     "execution_count": 27,
     "metadata": {},
     "output_type": "execute_result"
    }
   ],
   "source": [
    "df_lite.head()"
   ]
  },
  {
   "cell_type": "code",
   "execution_count": 28,
   "metadata": {},
   "outputs": [
    {
     "name": "stdout",
     "output_type": "stream",
     "text": [
      "Mthly_HH_Income\n",
      "Skew 0.8966419872996332\n"
     ]
    },
    {
     "data": {
      "image/png": "[encoded data removed]",
      "text/plain": [
       "<Figure size 360x360 with 1 Axes>"
      ]
     },
     "metadata": {},
     "output_type": "display_data"
    },
    {
     "name": "stdout",
     "output_type": "stream",
     "text": [
      "\n",
      " \n",
      "\n",
      "Mthly_HH_Expense\n",
      "Skew 1.1631728469608633\n"
     ]
    },
    {
     "data": {
      "image/png": "[encoded data removed]",
      "text/plain": [
       "<Figure size 432x288 with 1 Axes>"
      ]
     },
     "metadata": {},
     "output_type": "display_data"
    },
    {
     "name": "stdout",
     "output_type": "stream",
     "text": [
      "\n",
      " \n",
      "\n",
      "No_of_Fly_Members\n",
      "Skew 0.11023510701807854\n"
     ]
    },
    {
     "data": {
      "image/png": "[encoded data removed]",
      "text/plain": [
       "<Figure size 432x288 with 1 Axes>"
      ]
     },
     "metadata": {},
     "output_type": "display_data"
    },
    {
     "name": "stdout",
     "output_type": "stream",
     "text": [
      "\n",
      " \n",
      "\n",
      "Emi_or_Rent_Amt\n",
      "Skew 3.3007064211477792\n"
     ]
    },
    {
     "data": {
      "image/png": "[encoded data removed]",
      "text/plain": [
       "<Figure size 432x288 with 1 Axes>"
      ]
     },
     "metadata": {},
     "output_type": "display_data"
    },
    {
     "name": "stdout",
     "output_type": "stream",
     "text": [
      "\n",
      " \n",
      "\n",
      "Annual_HH_Income\n",
      "Skew 1.156858143785799\n"
     ]
    },
    {
     "data": {
      "image/png": "[encoded data removed]",
      "text/plain": [
       "<Figure size 432x288 with 1 Axes>"
      ]
     },
     "metadata": {},
     "output_type": "display_data"
    },
    {
     "name": "stdout",
     "output_type": "stream",
     "text": [
      "\n",
      " \n",
      "\n"
     ]
    }
   ],
   "source": [
    "plt.figure(figsize=(5,5))\n",
    "for cols in df_lite:\n",
    "    print(cols)\n",
    "    print(\"Skew\",stats.skew(df_lite[cols]))\n",
    "    sns.distplot(df_lite[cols])\n",
    "    plt.show()\n",
    "    print(\"\\n \\n\")"
   ]
  },
  {
   "cell_type": "code",
   "execution_count": 29,
   "metadata": {},
   "outputs": [
    {
     "data": {
      "text/plain": [
       "1.1929490975818218"
      ]
     },
     "execution_count": 29,
     "metadata": {},
     "output_type": "execute_result"
    }
   ],
   "source": [
    "df_lite[\"Annual_HH_Income\"].skew()"
   ]
  },
  {
   "cell_type": "code",
   "execution_count": 30,
   "metadata": {},
   "outputs": [
    {
     "data": {
      "text/plain": [
       "0.43445097615293493"
      ]
     },
     "execution_count": 30,
     "metadata": {},
     "output_type": "execute_result"
    }
   ],
   "source": [
    "(np.sqrt(df_lite['Annual_HH_Income'])).skew()"
   ]
  },
  {
   "cell_type": "markdown",
   "metadata": {},
   "source": [
    "    "
   ]
  },
  {
   "cell_type": "markdown",
   "metadata": {},
   "source": [
    "### <center> Q-Q plot </center>\n",
    "\n",
    "* The quantile-quantile (q-q) plot is a graphical technique for determining if two data sets come from populations with a common distribution.\n",
    "* A q-q plot is a plot of the quantiles of the first data set against the quantiles of the second data set. By a quantile, we mean the fraction (or percent) of points below the given value. That is, the 0.3 (or 30%) quantile is the point at which 30% percent of the data fall below and 70% fall above that value.\n",
    "\n",
    "* More on this here https://towardsdatascience.com/what-in-the-world-are-qq-plots-20d0e41dece1"
   ]
  },
  {
   "cell_type": "code",
   "execution_count": 31,
   "metadata": {},
   "outputs": [],
   "source": [
    "# Let's work on Q-Q plot \n",
    "\n",
    "df = df.sort_values(by=['Mthly_HH_Income'],ascending = True).reset_index()\n",
    "df['count']= df.index+1"
   ]
  },
  {
   "cell_type": "code",
   "execution_count": 32,
   "metadata": {},
   "outputs": [
    {
     "data": {
      "text/html": [
       "<div>\n",
       "<style scoped>\n",
       "    .dataframe tbody tr th:only-of-type {\n",
       "        vertical-align: middle;\n",
       "    }\n",
       "\n",
       "    .dataframe tbody tr th {\n",
       "        vertical-align: top;\n",
       "    }\n",
       "\n",
       "    .dataframe thead th {\n",
       "        text-align: right;\n",
       "    }\n",
       "</style>\n",
       "<table border=\"1\" class=\"dataframe\">\n",
       "  <thead>\n",
       "    <tr style=\"text-align: right;\">\n",
       "      <th></th>\n",
       "      <th>index</th>\n",
       "      <th>Mthly_HH_Income</th>\n",
       "      <th>Mthly_HH_Expense</th>\n",
       "      <th>No_of_Fly_Members</th>\n",
       "      <th>Emi_or_Rent_Amt</th>\n",
       "      <th>Annual_HH_Income</th>\n",
       "      <th>Highest_Qualified_Member</th>\n",
       "      <th>No_of_Earning_Members</th>\n",
       "      <th>count</th>\n",
       "    </tr>\n",
       "  </thead>\n",
       "  <tbody>\n",
       "    <tr>\n",
       "      <th>0</th>\n",
       "      <td>0</td>\n",
       "      <td>5000</td>\n",
       "      <td>8000</td>\n",
       "      <td>3</td>\n",
       "      <td>2000</td>\n",
       "      <td>64200</td>\n",
       "      <td>Under-Graduate</td>\n",
       "      <td>1</td>\n",
       "      <td>1</td>\n",
       "    </tr>\n",
       "    <tr>\n",
       "      <th>1</th>\n",
       "      <td>1</td>\n",
       "      <td>6000</td>\n",
       "      <td>7000</td>\n",
       "      <td>2</td>\n",
       "      <td>3000</td>\n",
       "      <td>79920</td>\n",
       "      <td>Illiterate</td>\n",
       "      <td>1</td>\n",
       "      <td>2</td>\n",
       "    </tr>\n",
       "    <tr>\n",
       "      <th>2</th>\n",
       "      <td>2</td>\n",
       "      <td>10000</td>\n",
       "      <td>4500</td>\n",
       "      <td>2</td>\n",
       "      <td>0</td>\n",
       "      <td>112800</td>\n",
       "      <td>Under-Graduate</td>\n",
       "      <td>1</td>\n",
       "      <td>3</td>\n",
       "    </tr>\n",
       "    <tr>\n",
       "      <th>3</th>\n",
       "      <td>3</td>\n",
       "      <td>10000</td>\n",
       "      <td>2000</td>\n",
       "      <td>1</td>\n",
       "      <td>0</td>\n",
       "      <td>97200</td>\n",
       "      <td>Illiterate</td>\n",
       "      <td>1</td>\n",
       "      <td>4</td>\n",
       "    </tr>\n",
       "    <tr>\n",
       "      <th>4</th>\n",
       "      <td>4</td>\n",
       "      <td>12500</td>\n",
       "      <td>12000</td>\n",
       "      <td>2</td>\n",
       "      <td>3000</td>\n",
       "      <td>147000</td>\n",
       "      <td>Graduate</td>\n",
       "      <td>1</td>\n",
       "      <td>5</td>\n",
       "    </tr>\n",
       "  </tbody>\n",
       "</table>\n",
       "</div>"
      ],
      "text/plain": [
       "   index  Mthly_HH_Income  Mthly_HH_Expense  No_of_Fly_Members  \\\n",
       "0      0             5000              8000                  3   \n",
       "1      1             6000              7000                  2   \n",
       "2      2            10000              4500                  2   \n",
       "3      3            10000              2000                  1   \n",
       "4      4            12500             12000                  2   \n",
       "\n",
       "   Emi_or_Rent_Amt  Annual_HH_Income Highest_Qualified_Member  \\\n",
       "0             2000             64200           Under-Graduate   \n",
       "1             3000             79920               Illiterate   \n",
       "2                0            112800           Under-Graduate   \n",
       "3                0             97200               Illiterate   \n",
       "4             3000            147000                 Graduate   \n",
       "\n",
       "   No_of_Earning_Members  count  \n",
       "0                      1      1  \n",
       "1                      1      2  \n",
       "2                      1      3  \n",
       "3                      1      4  \n",
       "4                      1      5  "
      ]
     },
     "execution_count": 32,
     "metadata": {},
     "output_type": "execute_result"
    }
   ],
   "source": [
    "df.head()"
   ]
  },
  {
   "cell_type": "code",
   "execution_count": 33,
   "metadata": {},
   "outputs": [],
   "source": [
    "n_rows = df.shape[0]"
   ]
  },
  {
   "cell_type": "code",
   "execution_count": 34,
   "metadata": {},
   "outputs": [],
   "source": [
    "df['Percentile_area'] = (df['count']) / n_rows"
   ]
  },
  {
   "cell_type": "markdown",
   "metadata": {},
   "source": [
    "ndtri - Returns the argument x for which the area under the Gaussian probability density function (integrated from minus infinity to x) is equal to y."
   ]
  },
  {
   "cell_type": "code",
   "execution_count": 35,
   "metadata": {},
   "outputs": [],
   "source": [
    "from scipy.special import ndtri\n",
    "df['z_theoritical'] = ndtri(df['Percentile_area'])"
   ]
  },
  {
   "cell_type": "code",
   "execution_count": 36,
   "metadata": {},
   "outputs": [],
   "source": [
    "df['z_actual'] = (df['Mthly_HH_Income']-df['Mthly_HH_Income'].mean())/df['Mthly_HH_Income'].std(ddof=0)"
   ]
  },
  {
   "cell_type": "code",
   "execution_count": 37,
   "metadata": {},
   "outputs": [
    {
     "data": {
      "text/html": [
       "<div>\n",
       "<style scoped>\n",
       "    .dataframe tbody tr th:only-of-type {\n",
       "        vertical-align: middle;\n",
       "    }\n",
       "\n",
       "    .dataframe tbody tr th {\n",
       "        vertical-align: top;\n",
       "    }\n",
       "\n",
       "    .dataframe thead th {\n",
       "        text-align: right;\n",
       "    }\n",
       "</style>\n",
       "<table border=\"1\" class=\"dataframe\">\n",
       "  <thead>\n",
       "    <tr style=\"text-align: right;\">\n",
       "      <th></th>\n",
       "      <th>index</th>\n",
       "      <th>Mthly_HH_Income</th>\n",
       "      <th>Mthly_HH_Expense</th>\n",
       "      <th>No_of_Fly_Members</th>\n",
       "      <th>Emi_or_Rent_Amt</th>\n",
       "      <th>Annual_HH_Income</th>\n",
       "      <th>Highest_Qualified_Member</th>\n",
       "      <th>No_of_Earning_Members</th>\n",
       "      <th>count</th>\n",
       "      <th>Percentile_area</th>\n",
       "      <th>z_theoritical</th>\n",
       "      <th>z_actual</th>\n",
       "    </tr>\n",
       "  </thead>\n",
       "  <tbody>\n",
       "    <tr>\n",
       "      <th>0</th>\n",
       "      <td>0</td>\n",
       "      <td>5000</td>\n",
       "      <td>8000</td>\n",
       "      <td>3</td>\n",
       "      <td>2000</td>\n",
       "      <td>64200</td>\n",
       "      <td>Under-Graduate</td>\n",
       "      <td>1</td>\n",
       "      <td>1</td>\n",
       "      <td>0.02</td>\n",
       "      <td>-2.053749</td>\n",
       "      <td>-1.415024</td>\n",
       "    </tr>\n",
       "    <tr>\n",
       "      <th>1</th>\n",
       "      <td>1</td>\n",
       "      <td>6000</td>\n",
       "      <td>7000</td>\n",
       "      <td>2</td>\n",
       "      <td>3000</td>\n",
       "      <td>79920</td>\n",
       "      <td>Illiterate</td>\n",
       "      <td>1</td>\n",
       "      <td>2</td>\n",
       "      <td>0.04</td>\n",
       "      <td>-1.750686</td>\n",
       "      <td>-1.376317</td>\n",
       "    </tr>\n",
       "    <tr>\n",
       "      <th>2</th>\n",
       "      <td>2</td>\n",
       "      <td>10000</td>\n",
       "      <td>4500</td>\n",
       "      <td>2</td>\n",
       "      <td>0</td>\n",
       "      <td>112800</td>\n",
       "      <td>Under-Graduate</td>\n",
       "      <td>1</td>\n",
       "      <td>3</td>\n",
       "      <td>0.06</td>\n",
       "      <td>-1.554774</td>\n",
       "      <td>-1.221492</td>\n",
       "    </tr>\n",
       "    <tr>\n",
       "      <th>3</th>\n",
       "      <td>3</td>\n",
       "      <td>10000</td>\n",
       "      <td>2000</td>\n",
       "      <td>1</td>\n",
       "      <td>0</td>\n",
       "      <td>97200</td>\n",
       "      <td>Illiterate</td>\n",
       "      <td>1</td>\n",
       "      <td>4</td>\n",
       "      <td>0.08</td>\n",
       "      <td>-1.405072</td>\n",
       "      <td>-1.221492</td>\n",
       "    </tr>\n",
       "    <tr>\n",
       "      <th>4</th>\n",
       "      <td>4</td>\n",
       "      <td>12500</td>\n",
       "      <td>12000</td>\n",
       "      <td>2</td>\n",
       "      <td>3000</td>\n",
       "      <td>147000</td>\n",
       "      <td>Graduate</td>\n",
       "      <td>1</td>\n",
       "      <td>5</td>\n",
       "      <td>0.10</td>\n",
       "      <td>-1.281552</td>\n",
       "      <td>-1.124727</td>\n",
       "    </tr>\n",
       "  </tbody>\n",
       "</table>\n",
       "</div>"
      ],
      "text/plain": [
       "   index  Mthly_HH_Income  Mthly_HH_Expense  No_of_Fly_Members  \\\n",
       "0      0             5000              8000                  3   \n",
       "1      1             6000              7000                  2   \n",
       "2      2            10000              4500                  2   \n",
       "3      3            10000              2000                  1   \n",
       "4      4            12500             12000                  2   \n",
       "\n",
       "   Emi_or_Rent_Amt  Annual_HH_Income Highest_Qualified_Member  \\\n",
       "0             2000             64200           Under-Graduate   \n",
       "1             3000             79920               Illiterate   \n",
       "2                0            112800           Under-Graduate   \n",
       "3                0             97200               Illiterate   \n",
       "4             3000            147000                 Graduate   \n",
       "\n",
       "   No_of_Earning_Members  count  Percentile_area  z_theoritical  z_actual  \n",
       "0                      1      1             0.02      -2.053749 -1.415024  \n",
       "1                      1      2             0.04      -1.750686 -1.376317  \n",
       "2                      1      3             0.06      -1.554774 -1.221492  \n",
       "3                      1      4             0.08      -1.405072 -1.221492  \n",
       "4                      1      5             0.10      -1.281552 -1.124727  "
      ]
     },
     "execution_count": 37,
     "metadata": {},
     "output_type": "execute_result"
    }
   ],
   "source": [
    "df.head()"
   ]
  },
  {
   "cell_type": "code",
   "execution_count": 38,
   "metadata": {},
   "outputs": [
    {
     "data": {
      "image/png": "[encoded data removed]",
      "text/plain": [
       "<Figure size 432x288 with 1 Axes>"
      ]
     },
     "metadata": {},
     "output_type": "display_data"
    }
   ],
   "source": [
    "plt.scatter(df.z_actual, df.z_theoritical)\n",
    "plt.plot([-2,-1,0,1,2],[-2,-1,0,1,2])\n",
    "plt.show()"
   ]
  },
  {
   "cell_type": "code",
   "execution_count": 39,
   "metadata": {},
   "outputs": [
    {
     "data": {
      "image/png": "[encoded data removed]",
      "text/plain": [
       "<Figure size 432x288 with 1 Axes>"
      ]
     },
     "metadata": {},
     "output_type": "display_data"
    }
   ],
   "source": [
    "plt.scatter(df.z_theoritical,df.z_theoritical)\n",
    "plt.plot([-2,-1,0,1,2],[-2,-1,0,1,2])\n",
    "plt.show()"
   ]
  },
  {
   "cell_type": "markdown",
   "metadata": {},
   "source": [
    "    "
   ]
  },
  {
   "cell_type": "markdown",
   "metadata": {},
   "source": [
    "### <center> Box-Cox and Implementations </center>\n",
    "\n",
    "\n",
    "* When you are dealing with real-world data, you are going to deal with features that are heavily skewed. Transformation technique is useful to stabilize variance, make the data more normal distribution-like, improve the validity of measures of association.\n",
    "\n",
    "* A Box Cox transformation is a transformation of a non-normal dependent variables into a normal shape. Normality is an important assumption for many statistical techniques; if your data isn’t normal, applying a Box-Cox means that you are able to run a broader number of tests.\n",
    "\n",
    "* At the core of the Box Cox transformation is an exponent, lambda (λ), which varies from -5 to 5. All values of λ are considered and the optimal value for your data is selected; The “optimal value” is the one which results in the best approximation of a normal distribution curve. The transformation of Y has the form:\n",
    "\n",
    "$$ y ^ \\left ({\\lambda} \\right) =  \\begin{cases} \\frac{\\left ({y}_{i}^{\\lambda}-1\\right)}{\\lambda} & \\text {if} \\lambda \\neq {0} \\\\ \\\\ \\log{\\left({y}_{i}\\right)} & \\text {if} \\lambda = {0} \\end{cases}$$\n",
    "\n",
    "* The problem with the Box-Cox Transformation is estimating lambda. This value will depend on the existing data, and should be considered when performing cross validation on out of sample datasets. Make sure to estimate lambda according to the training dataset."
   ]
  },
  {
   "cell_type": "code",
   "execution_count": 40,
   "metadata": {},
   "outputs": [
    {
     "data": {
      "image/png": "[encoded data removed]",
      "text/plain": [
       "<Figure size 432x288 with 1 Axes>"
      ]
     },
     "metadata": {},
     "output_type": "display_data"
    },
    {
     "data": {
      "image/png": "[encoded data removed]",
      "text/plain": [
       "<Figure size 432x288 with 1 Axes>"
      ]
     },
     "metadata": {},
     "output_type": "display_data"
    },
    {
     "data": {
      "image/png": "[encoded data removed]",
      "text/plain": [
       "<Figure size 432x288 with 1 Axes>"
      ]
     },
     "metadata": {},
     "output_type": "display_data"
    },
    {
     "data": {
      "image/png": "[encoded data removed]",
      "text/plain": [
       "<Figure size 432x288 with 1 Axes>"
      ]
     },
     "metadata": {},
     "output_type": "display_data"
    },
    {
     "data": {
      "image/png": "[encoded data removed]",
      "text/plain": [
       "<Figure size 432x288 with 1 Axes>"
      ]
     },
     "metadata": {},
     "output_type": "display_data"
    },
    {
     "data": {
      "image/png": "[encoded data removed]",
      "text/plain": [
       "<Figure size 432x288 with 1 Axes>"
      ]
     },
     "metadata": {},
     "output_type": "display_data"
    },
    {
     "data": {
      "image/png": "[encoded data removed]",
      "text/plain": [
       "<Figure size 432x288 with 1 Axes>"
      ]
     },
     "metadata": {},
     "output_type": "display_data"
    },
    {
     "data": {
      "image/png": "[encoded data removed]",
      "text/plain": [
       "<Figure size 432x288 with 1 Axes>"
      ]
     },
     "metadata": {},
     "output_type": "display_data"
    },
    {
     "name": "stdout",
     "output_type": "stream",
     "text": [
      "lambda parameter for Box-Cox Transformation is 4.065183233405706\n"
     ]
    }
   ],
   "source": [
    "import pylab\n",
    "from scipy import stats \n",
    "\n",
    "## Create a dummy array using stat module from scipy library\n",
    "x = stats.loggamma.rvs(5, size=500) + 5\n",
    "\n",
    "## let us check  how the distribution of x\n",
    "pd.Series(x).hist()\n",
    "plt.show()\n",
    "stats.probplot(x, dist=\"norm\", plot=pylab)\n",
    "pylab.show()\n",
    "\n",
    "## what happens when we apply with log transformation\n",
    "pd.Series(np.log(x)).hist()\n",
    "plt.show()\n",
    "stats.probplot(np.log(x), dist=\"norm\", plot=pylab)\n",
    "pylab.show()\n",
    "\n",
    "## what happen in the case of square root transformation\n",
    "pd.Series(np.sqrt(x)).hist()\n",
    "plt.show()\n",
    "stats.probplot(np.sqrt(x), dist=\"norm\", plot=pylab)\n",
    "pylab.show()\n",
    "\n",
    "## finally let's check the Boxcox transformation \n",
    "x_bc, lmda = stats.boxcox(x)\n",
    "pd.Series(x_bc).hist()\n",
    "plt.show()\n",
    "stats.probplot(x_bc, dist=\"norm\", plot=pylab)\n",
    "pylab.show()\n",
    "print (\"lambda parameter for Box-Cox Transformation is {}\".format(lmda))"
   ]
  },
  {
   "cell_type": "markdown",
   "metadata": {},
   "source": [
    "    "
   ]
  },
  {
   "cell_type": "markdown",
   "metadata": {},
   "source": [
    "### <center> References </center>"
   ]
  },
  {
   "cell_type": "markdown",
   "metadata": {},
   "source": [
    "1. https://github.com/bansalkanav/Machine_Learning_and_Deep_Learning/blob/master/Applied%20Statistics/1.%20Normal%20Distributions/normal_dist.ipynb\n",
    "\n",
    "2. https://oeis.org/wiki/List_of_LaTeX_mathematical_symbols\n",
    "\n",
    "3. https://www.overleaf.com/learn/latex/Integrals,_sums_and_limits\n",
    "\n",
    "4. http://thedatamonk.com/top-20-pandas-functions-in-python/\n",
    "\n",
    "5. https://github.com/Venu123-sudo/Innomatics_Intrenship_APR_21/blob/main/Task-7%20(Descriptive%20statistics)/Task_7(descriptive%20Statistics).ipynb\n",
    "\n",
    "6. https://www.statisticshowto.com/box-cox-transformation/ \n",
    "\n",
    "7. https://www.statisticshowto.com/probability-and-statistics/normal-distributions/"
   ]
  },
  {
   "cell_type": "code",
   "execution_count": null,
   "metadata": {},
   "outputs": [],
   "source": []
  },
  {
   "cell_type": "code",
   "execution_count": null,
   "metadata": {},
   "outputs": [],
   "source": []
  }
 ],
 "metadata": {
  "kernelspec": {
   "display_name": "Python 3",
   "language": "python",
   "name": "python3"
  },
  "language_info": {
   "codemirror_mode": {
    "name": "ipython",
    "version": 3
   },
   "file_extension": ".py",
   "mimetype": "text/x-python",
   "name": "python",
   "nbconvert_exporter": "python",
   "pygments_lexer": "ipython3",
   "version": "3.8.5"
  }
 },
 "nbformat": 4,
 "nbformat_minor": 4
}
