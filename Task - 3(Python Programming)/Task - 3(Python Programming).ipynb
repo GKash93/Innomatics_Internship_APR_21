{
 "cells": [
  {
   "cell_type": "markdown",
   "metadata": {},
   "source": [
    "# Question 1\n",
    "\n",
    "## Polar Coordinates\n",
    "\n",
    "https://www.hackerrank.com/challenges/polar-coordinates/problem \n",
    "    "
   ]
  },
  {
   "cell_type": "code",
   "execution_count": 14,
   "metadata": {},
   "outputs": [
    {
     "name": "stdout",
     "output_type": "stream",
     "text": [
      "1-2j\n",
      "2.23606797749979\n",
      "-1.107\n"
     ]
    }
   ],
   "source": [
    "#import complex math module to calculate the \n",
    "import cmath\n",
    "\n",
    "# We directly assume the user input is complex\n",
    "number = complex(input())\n",
    "\n",
    "#To print the absolute value of the modulus\n",
    "print(abs(number))\n",
    "\n",
    "#To print the phase of the angle\n",
    "print(\"%.3f\" %(cmath.phase(number)))"
   ]
  },
  {
   "cell_type": "markdown",
   "metadata": {},
   "source": [
    "# Question 2\n",
    "\n",
    "## Find angle MBC\n",
    "\n",
    "https://www.hackerrank.com/challenges/find-angle/problem"
   ]
  },
  {
   "cell_type": "code",
   "execution_count": 37,
   "metadata": {},
   "outputs": [
    {
     "name": "stdout",
     "output_type": "stream",
     "text": [
      "10\n",
      "10\n",
      "14.142\n",
      "45°\n"
     ]
    }
   ],
   "source": [
    "import math\n",
    "import cmath\n",
    "\n",
    "AB = int(input())\n",
    "BC = int(input())\n",
    "\n",
    "AC = sqrt((AB ** 2) + (BC ** 2))\n",
    "print(\"%.3f\" %(AC))\n",
    "\n",
    "#point A and C as polar cordinates\n",
    "A = complex(0, AB)\n",
    "C = complex(BC, 0)\n",
    "\n",
    "#str used because the return output is a float and cannot be matched with degree sign\n",
    "# math.degree - Convert angle x from radians to degrees.\n",
    "#cmath.phase - Returns arguments of x as float where in phase(x) = math.atan2(x)\n",
    "# u'\\N{DEGREE SIGN}' - ASCII character for degree\n",
    "\n",
    "print(str(round(math.degrees(cmath.phase(((A+C)/2))))) + u'\\N{DEGREE SIGN}')"
   ]
  },
  {
   "cell_type": "markdown",
   "metadata": {},
   "source": [
    "# Question 3\n",
    "\n",
    "## Triangle Quest\n",
    "\n",
    "https://www.hackerrank.com/challenges/python-quest-1/problem"
   ]
  },
  {
   "cell_type": "code",
   "execution_count": 46,
   "metadata": {},
   "outputs": [
    {
     "name": "stdout",
     "output_type": "stream",
     "text": [
      "5\n",
      "1\n",
      "22\n",
      "333\n",
      "4444\n"
     ]
    }
   ],
   "source": [
    "for i in range(1,int(input())): \n",
    "    print((10 ** (i) // 9) * i)"
   ]
  },
  {
   "cell_type": "markdown",
   "metadata": {},
   "source": [
    "For i = 1\n",
    "        (((10 ** 1)//9) * 1) = (10//9) * 1 = 1 * 1 = 1\n",
    "\n",
    "For i = 2\n",
    "        (((10 ** 2)//9) * 2) = (100 // 9) * 2 = 11 * 2 = 22\n",
    "        \n",
    "For i = 3\n",
    "        (((10 ** 3) // 9) * 3) = (1000// 9) * 3 = 111 * 3 = 333\n",
    "        \n",
    "For i = 4\n",
    "        (((10 ** 4) // 9) * 4) = (10000 // 9) * 4 = 1111 * 4 = 4444"
   ]
  },
  {
   "cell_type": "code",
   "execution_count": 53,
   "metadata": {},
   "outputs": [
    {
     "name": "stdout",
     "output_type": "stream",
     "text": [
      "5\n",
      "1\n",
      "22\n",
      "333\n",
      "4444\n"
     ]
    }
   ],
   "source": [
    "for i in range(1,int(input())):\n",
    "    print(\"\".join([str(i)] * i))"
   ]
  },
  {
   "cell_type": "markdown",
   "metadata": {},
   "source": [
    "# Question 4\n",
    "\n",
    "## Triangle Quest - 2\n",
    "\n",
    "https://www.hackerrank.com/challenges/triangle-quest-2/problem"
   ]
  },
  {
   "cell_type": "code",
   "execution_count": 65,
   "metadata": {},
   "outputs": [
    {
     "name": "stdout",
     "output_type": "stream",
     "text": [
      "5\n",
      "1\n",
      "121\n",
      "12321\n",
      "1234321\n",
      "123454321\n"
     ]
    }
   ],
   "source": [
    "for x in range(1,int(input())+1):\n",
    "    print(((10**x - 1)//9)**2)\n",
    "#palindrome is worked as multiples of 11"
   ]
  },
  {
   "cell_type": "code",
   "execution_count": 63,
   "metadata": {},
   "outputs": [
    {
     "name": "stdout",
     "output_type": "stream",
     "text": [
      "5\n",
      "\n",
      "1 \n",
      "1 2 1 \n",
      "1 2 3 2 1 \n",
      "1 2 3 4 3 2 1 \n"
     ]
    }
   ],
   "source": [
    "rows = int(input())\n",
    "\n",
    "for i in range(1,rows+1):\n",
    "    for j in range(1, i-1):\n",
    "        print(j, end=\" \")\n",
    "    for j in range(i-1, 0, -1):\n",
    "        print(j, end=\" \")\n",
    "    print()"
   ]
  },
  {
   "cell_type": "markdown",
   "metadata": {},
   "source": [
    "# Question 5\n",
    "\n",
    "## Mod Divmod\n",
    "\n",
    "https://www.hackerrank.com/challenges/python-mod-divmod/problem "
   ]
  },
  {
   "cell_type": "code",
   "execution_count": 66,
   "metadata": {},
   "outputs": [
    {
     "name": "stdout",
     "output_type": "stream",
     "text": [
      "177\n",
      "10\n",
      "17\n",
      "7\n",
      "(17, 7)\n"
     ]
    }
   ],
   "source": [
    "a = int(input())\n",
    "b = int(input())\n",
    "\n",
    "print(a//b)\n",
    "print(a%b)\n",
    "print(divmod(a,b))"
   ]
  },
  {
   "cell_type": "markdown",
   "metadata": {},
   "source": [
    "# Question 6\n",
    "\n",
    "## Power - Mod Power\n",
    "\n",
    "https://www.hackerrank.com/challenges/python-power-mod-power/problem"
   ]
  },
  {
   "cell_type": "code",
   "execution_count": 68,
   "metadata": {},
   "outputs": [
    {
     "name": "stdout",
     "output_type": "stream",
     "text": [
      "3\n",
      "4\n",
      "5\n",
      "81\n",
      "1\n"
     ]
    }
   ],
   "source": [
    "a = int(input())\n",
    "b = int(input())\n",
    "m = int(input())\n",
    "\n",
    "print(pow(a,b))\n",
    "print(pow(a,b,m))"
   ]
  },
  {
   "cell_type": "markdown",
   "metadata": {},
   "source": [
    "# Question 7\n",
    "\n",
    "## Integers come in all size\n",
    "\n",
    "https://www.hackerrank.com/challenges/python-integers-come-in-all-sizes/problem"
   ]
  },
  {
   "cell_type": "code",
   "execution_count": 69,
   "metadata": {},
   "outputs": [
    {
     "name": "stdout",
     "output_type": "stream",
     "text": [
      "9\n",
      "29\n",
      "7\n",
      "27\n",
      "4710194409608608369201743232\n"
     ]
    }
   ],
   "source": [
    "a = int(input())\n",
    "b = int(input())\n",
    "c = int(input())\n",
    "d = int(input())\n",
    "\n",
    "print((a ** b) + (c ** d))"
   ]
  }
 ],
 "metadata": {
  "kernelspec": {
   "display_name": "Python 3",
   "language": "python",
   "name": "python3"
  },
  "language_info": {
   "codemirror_mode": {
    "name": "ipython",
    "version": 3
   },
   "file_extension": ".py",
   "mimetype": "text/x-python",
   "name": "python",
   "nbconvert_exporter": "python",
   "pygments_lexer": "ipython3",
   "version": "3.8.5"
  }
 },
 "nbformat": 4,
 "nbformat_minor": 4
}
